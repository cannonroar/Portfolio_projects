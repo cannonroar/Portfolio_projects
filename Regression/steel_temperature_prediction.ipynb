{
 "cells": [
  {
   "cell_type": "markdown",
   "id": "wireless-concern",
   "metadata": {
    "id": "wireless-concern"
   },
   "source": [
    "## Предобработка данных"
   ]
  },
  {
   "cell_type": "markdown",
   "id": "corrected-picture",
   "metadata": {
    "id": "corrected-picture"
   },
   "source": [
    "Для начала импортируем необходимые библиотеки."
   ]
  },
  {
   "cell_type": "code",
   "execution_count": 1,
   "id": "aware-toyota",
   "metadata": {
    "executionInfo": {
     "elapsed": 2718,
     "status": "ok",
     "timestamp": 1617296250608,
     "user": {
      "displayName": "Артем Пушкарев",
      "photoUrl": "https://lh3.googleusercontent.com/-RL5lE4v0_44/AAAAAAAAAAI/AAAAAAAABbM/1xJdlJgu_mk/s64/photo.jpg",
      "userId": "11449239081604091500"
     },
     "user_tz": -180
    },
    "id": "aware-toyota"
   },
   "outputs": [],
   "source": [
    "import pandas as pd\n",
    "import numpy as np\n",
    "import math\n",
    "from matplotlib import pyplot as plt\n",
    "from sklearn.model_selection import GridSearchCV\n",
    "from sklearn.pipeline import Pipeline\n",
    "from sklearn.preprocessing import StandardScaler\n",
    "from sklearn.model_selection import train_test_split\n",
    "from sklearn.metrics import make_scorer, mean_squared_log_error\n",
    "from sklearn.tree import DecisionTreeRegressor\n",
    "from lightgbm import LGBMRegressor\n",
    "from sklearn.ensemble import RandomForestRegressor\n",
    "import warnings\n",
    "warnings.filterwarnings(\"ignore\")"
   ]
  },
  {
   "cell_type": "markdown",
   "id": "connected-finnish",
   "metadata": {
    "id": "connected-finnish"
   },
   "source": [
    "Загрузим исходные данные, а также присвоим имена созданным датафреймам."
   ]
  },
  {
   "cell_type": "code",
   "execution_count": 3,
   "id": "initial-tamil",
   "metadata": {
    "executionInfo": {
     "elapsed": 60195,
     "status": "ok",
     "timestamp": 1617296308540,
     "user": {
      "displayName": "Артем Пушкарев",
      "photoUrl": "https://lh3.googleusercontent.com/-RL5lE4v0_44/AAAAAAAAAAI/AAAAAAAABbM/1xJdlJgu_mk/s64/photo.jpg",
      "userId": "11449239081604091500"
     },
     "user_tz": -180
    },
    "id": "initial-tamil"
   },
   "outputs": [],
   "source": [
    "data_arc = pd.read_csv('/datasets/final_steel/data_arc.csv')\n",
    "data_arc.name = 'data_arc'\n",
    "\n",
    "data_bulk = pd.read_csv('/datasets/final_steel/data_bulk.csv')\n",
    "data_bulk.name = 'data_bulk'\n",
    "\n",
    "data_bulk_time = pd.read_csv('/datasets/final_steel/data_bulk_time.csv')\n",
    "data_bulk_time.name = 'data_bulk_time'\n",
    "\n",
    "data_gas = pd.read_csv('/datasets/final_steel/data_gas.csv')\n",
    "data_gas.name = 'data_gas'\n",
    "\n",
    "data_temp = pd.read_csv('/datasets/final_steel/data_temp.csv')\n",
    "data_temp.name = 'data_temp'\n",
    "\n",
    "data_wire = pd.read_csv('/datasets/final_steel/data_wire.csv')\n",
    "data_wire.name = 'data_wire'\n",
    "\n",
    "data_wire_time = pd.read_csv('/datasets/final_steel/data_wire_time.csv')\n",
    "data_wire_time.name = 'data_wire_time'"
   ]
  },
  {
   "cell_type": "markdown",
   "id": "reasonable-yemen",
   "metadata": {
    "id": "reasonable-yemen"
   },
   "source": [
    "Создадим список `data_all`, включающий все исходные датафреймы."
   ]
  },
  {
   "cell_type": "code",
   "execution_count": 4,
   "id": "furnished-skating",
   "metadata": {
    "executionInfo": {
     "elapsed": 60192,
     "status": "ok",
     "timestamp": 1617296308549,
     "user": {
      "displayName": "Артем Пушкарев",
      "photoUrl": "https://lh3.googleusercontent.com/-RL5lE4v0_44/AAAAAAAAAAI/AAAAAAAABbM/1xJdlJgu_mk/s64/photo.jpg",
      "userId": "11449239081604091500"
     },
     "user_tz": -180
    },
    "id": "furnished-skating"
   },
   "outputs": [],
   "source": [
    "data_all = [data_arc, data_bulk, data_bulk_time, data_gas, data_temp, data_wire, data_wire_time]"
   ]
  },
  {
   "cell_type": "markdown",
   "id": "clean-serve",
   "metadata": {
    "id": "clean-serve"
   },
   "source": [
    "Посмотрим на структуру датафреймов."
   ]
  },
  {
   "cell_type": "code",
   "execution_count": 5,
   "id": "average-expense",
   "metadata": {
    "colab": {
     "base_uri": "https://localhost:8080/",
     "height": 1000
    },
    "executionInfo": {
     "elapsed": 60654,
     "status": "ok",
     "timestamp": 1617296309043,
     "user": {
      "displayName": "Артем Пушкарев",
      "photoUrl": "https://lh3.googleusercontent.com/-RL5lE4v0_44/AAAAAAAAAAI/AAAAAAAABbM/1xJdlJgu_mk/s64/photo.jpg",
      "userId": "11449239081604091500"
     },
     "user_tz": -180
    },
    "id": "average-expense",
    "outputId": "78405003-2e89-4e87-e5ff-26049bfd6833",
    "scrolled": false
   },
   "outputs": [
    {
     "name": "stdout",
     "output_type": "stream",
     "text": [
      "<class 'pandas.core.frame.DataFrame'>\n",
      "RangeIndex: 14876 entries, 0 to 14875\n",
      "Data columns (total 5 columns):\n",
      " #   Column                Non-Null Count  Dtype  \n",
      "---  ------                --------------  -----  \n",
      " 0   key                   14876 non-null  int64  \n",
      " 1   Начало нагрева дугой  14876 non-null  object \n",
      " 2   Конец нагрева дугой   14876 non-null  object \n",
      " 3   Активная мощность     14876 non-null  float64\n",
      " 4   Реактивная мощность   14876 non-null  float64\n",
      "dtypes: float64(2), int64(1), object(2)\n",
      "memory usage: 581.2+ KB\n"
     ]
    },
    {
     "data": {
      "text/plain": [
       "None"
      ]
     },
     "metadata": {
      "tags": []
     },
     "output_type": "display_data"
    },
    {
     "data": {
      "text/html": [
       "<div>\n",
       "<style scoped>\n",
       "    .dataframe tbody tr th:only-of-type {\n",
       "        vertical-align: middle;\n",
       "    }\n",
       "\n",
       "    .dataframe tbody tr th {\n",
       "        vertical-align: top;\n",
       "    }\n",
       "\n",
       "    .dataframe thead th {\n",
       "        text-align: right;\n",
       "    }\n",
       "</style>\n",
       "<table border=\"1\" class=\"dataframe\">\n",
       "  <thead>\n",
       "    <tr style=\"text-align: right;\">\n",
       "      <th></th>\n",
       "      <th>key</th>\n",
       "      <th>Начало нагрева дугой</th>\n",
       "      <th>Конец нагрева дугой</th>\n",
       "      <th>Активная мощность</th>\n",
       "      <th>Реактивная мощность</th>\n",
       "    </tr>\n",
       "  </thead>\n",
       "  <tbody>\n",
       "    <tr>\n",
       "      <th>0</th>\n",
       "      <td>1</td>\n",
       "      <td>2019-05-03 11:02:14</td>\n",
       "      <td>2019-05-03 11:06:02</td>\n",
       "      <td>0.976059</td>\n",
       "      <td>0.687084</td>\n",
       "    </tr>\n",
       "    <tr>\n",
       "      <th>1</th>\n",
       "      <td>1</td>\n",
       "      <td>2019-05-03 11:07:28</td>\n",
       "      <td>2019-05-03 11:10:33</td>\n",
       "      <td>0.805607</td>\n",
       "      <td>0.520285</td>\n",
       "    </tr>\n",
       "    <tr>\n",
       "      <th>2</th>\n",
       "      <td>1</td>\n",
       "      <td>2019-05-03 11:11:44</td>\n",
       "      <td>2019-05-03 11:14:36</td>\n",
       "      <td>0.744363</td>\n",
       "      <td>0.498805</td>\n",
       "    </tr>\n",
       "    <tr>\n",
       "      <th>3</th>\n",
       "      <td>1</td>\n",
       "      <td>2019-05-03 11:18:14</td>\n",
       "      <td>2019-05-03 11:24:19</td>\n",
       "      <td>1.659363</td>\n",
       "      <td>1.062669</td>\n",
       "    </tr>\n",
       "    <tr>\n",
       "      <th>4</th>\n",
       "      <td>1</td>\n",
       "      <td>2019-05-03 11:26:09</td>\n",
       "      <td>2019-05-03 11:28:37</td>\n",
       "      <td>0.692755</td>\n",
       "      <td>0.414397</td>\n",
       "    </tr>\n",
       "  </tbody>\n",
       "</table>\n",
       "</div>"
      ],
      "text/plain": [
       "   key Начало нагрева дугой  ... Активная мощность  Реактивная мощность\n",
       "0    1  2019-05-03 11:02:14  ...          0.976059             0.687084\n",
       "1    1  2019-05-03 11:07:28  ...          0.805607             0.520285\n",
       "2    1  2019-05-03 11:11:44  ...          0.744363             0.498805\n",
       "3    1  2019-05-03 11:18:14  ...          1.659363             1.062669\n",
       "4    1  2019-05-03 11:26:09  ...          0.692755             0.414397\n",
       "\n",
       "[5 rows x 5 columns]"
      ]
     },
     "metadata": {
      "tags": []
     },
     "output_type": "display_data"
    },
    {
     "name": "stdout",
     "output_type": "stream",
     "text": [
      "____________________________\n",
      "\n",
      "\n",
      "<class 'pandas.core.frame.DataFrame'>\n",
      "RangeIndex: 3129 entries, 0 to 3128\n",
      "Data columns (total 16 columns):\n",
      " #   Column   Non-Null Count  Dtype  \n",
      "---  ------   --------------  -----  \n",
      " 0   key      3129 non-null   int64  \n",
      " 1   Bulk 1   252 non-null    float64\n",
      " 2   Bulk 2   22 non-null     float64\n",
      " 3   Bulk 3   1298 non-null   float64\n",
      " 4   Bulk 4   1014 non-null   float64\n",
      " 5   Bulk 5   77 non-null     float64\n",
      " 6   Bulk 6   576 non-null    float64\n",
      " 7   Bulk 7   25 non-null     float64\n",
      " 8   Bulk 8   1 non-null      float64\n",
      " 9   Bulk 9   19 non-null     float64\n",
      " 10  Bulk 10  176 non-null    float64\n",
      " 11  Bulk 11  177 non-null    float64\n",
      " 12  Bulk 12  2450 non-null   float64\n",
      " 13  Bulk 13  18 non-null     float64\n",
      " 14  Bulk 14  2806 non-null   float64\n",
      " 15  Bulk 15  2248 non-null   float64\n",
      "dtypes: float64(15), int64(1)\n",
      "memory usage: 391.2 KB\n"
     ]
    },
    {
     "data": {
      "text/plain": [
       "None"
      ]
     },
     "metadata": {
      "tags": []
     },
     "output_type": "display_data"
    },
    {
     "data": {
      "text/html": [
       "<div>\n",
       "<style scoped>\n",
       "    .dataframe tbody tr th:only-of-type {\n",
       "        vertical-align: middle;\n",
       "    }\n",
       "\n",
       "    .dataframe tbody tr th {\n",
       "        vertical-align: top;\n",
       "    }\n",
       "\n",
       "    .dataframe thead th {\n",
       "        text-align: right;\n",
       "    }\n",
       "</style>\n",
       "<table border=\"1\" class=\"dataframe\">\n",
       "  <thead>\n",
       "    <tr style=\"text-align: right;\">\n",
       "      <th></th>\n",
       "      <th>key</th>\n",
       "      <th>Bulk 1</th>\n",
       "      <th>Bulk 2</th>\n",
       "      <th>Bulk 3</th>\n",
       "      <th>Bulk 4</th>\n",
       "      <th>Bulk 5</th>\n",
       "      <th>Bulk 6</th>\n",
       "      <th>Bulk 7</th>\n",
       "      <th>Bulk 8</th>\n",
       "      <th>Bulk 9</th>\n",
       "      <th>Bulk 10</th>\n",
       "      <th>Bulk 11</th>\n",
       "      <th>Bulk 12</th>\n",
       "      <th>Bulk 13</th>\n",
       "      <th>Bulk 14</th>\n",
       "      <th>Bulk 15</th>\n",
       "    </tr>\n",
       "  </thead>\n",
       "  <tbody>\n",
       "    <tr>\n",
       "      <th>0</th>\n",
       "      <td>1</td>\n",
       "      <td>NaN</td>\n",
       "      <td>NaN</td>\n",
       "      <td>NaN</td>\n",
       "      <td>43.0</td>\n",
       "      <td>NaN</td>\n",
       "      <td>NaN</td>\n",
       "      <td>NaN</td>\n",
       "      <td>NaN</td>\n",
       "      <td>NaN</td>\n",
       "      <td>NaN</td>\n",
       "      <td>NaN</td>\n",
       "      <td>206.0</td>\n",
       "      <td>NaN</td>\n",
       "      <td>150.0</td>\n",
       "      <td>154.0</td>\n",
       "    </tr>\n",
       "    <tr>\n",
       "      <th>1</th>\n",
       "      <td>2</td>\n",
       "      <td>NaN</td>\n",
       "      <td>NaN</td>\n",
       "      <td>NaN</td>\n",
       "      <td>73.0</td>\n",
       "      <td>NaN</td>\n",
       "      <td>NaN</td>\n",
       "      <td>NaN</td>\n",
       "      <td>NaN</td>\n",
       "      <td>NaN</td>\n",
       "      <td>NaN</td>\n",
       "      <td>NaN</td>\n",
       "      <td>206.0</td>\n",
       "      <td>NaN</td>\n",
       "      <td>149.0</td>\n",
       "      <td>154.0</td>\n",
       "    </tr>\n",
       "    <tr>\n",
       "      <th>2</th>\n",
       "      <td>3</td>\n",
       "      <td>NaN</td>\n",
       "      <td>NaN</td>\n",
       "      <td>NaN</td>\n",
       "      <td>34.0</td>\n",
       "      <td>NaN</td>\n",
       "      <td>NaN</td>\n",
       "      <td>NaN</td>\n",
       "      <td>NaN</td>\n",
       "      <td>NaN</td>\n",
       "      <td>NaN</td>\n",
       "      <td>NaN</td>\n",
       "      <td>205.0</td>\n",
       "      <td>NaN</td>\n",
       "      <td>152.0</td>\n",
       "      <td>153.0</td>\n",
       "    </tr>\n",
       "    <tr>\n",
       "      <th>3</th>\n",
       "      <td>4</td>\n",
       "      <td>NaN</td>\n",
       "      <td>NaN</td>\n",
       "      <td>NaN</td>\n",
       "      <td>81.0</td>\n",
       "      <td>NaN</td>\n",
       "      <td>NaN</td>\n",
       "      <td>NaN</td>\n",
       "      <td>NaN</td>\n",
       "      <td>NaN</td>\n",
       "      <td>NaN</td>\n",
       "      <td>NaN</td>\n",
       "      <td>207.0</td>\n",
       "      <td>NaN</td>\n",
       "      <td>153.0</td>\n",
       "      <td>154.0</td>\n",
       "    </tr>\n",
       "    <tr>\n",
       "      <th>4</th>\n",
       "      <td>5</td>\n",
       "      <td>NaN</td>\n",
       "      <td>NaN</td>\n",
       "      <td>NaN</td>\n",
       "      <td>78.0</td>\n",
       "      <td>NaN</td>\n",
       "      <td>NaN</td>\n",
       "      <td>NaN</td>\n",
       "      <td>NaN</td>\n",
       "      <td>NaN</td>\n",
       "      <td>NaN</td>\n",
       "      <td>NaN</td>\n",
       "      <td>203.0</td>\n",
       "      <td>NaN</td>\n",
       "      <td>151.0</td>\n",
       "      <td>152.0</td>\n",
       "    </tr>\n",
       "  </tbody>\n",
       "</table>\n",
       "</div>"
      ],
      "text/plain": [
       "   key  Bulk 1  Bulk 2  Bulk 3  ...  Bulk 12  Bulk 13  Bulk 14  Bulk 15\n",
       "0    1     NaN     NaN     NaN  ...    206.0      NaN    150.0    154.0\n",
       "1    2     NaN     NaN     NaN  ...    206.0      NaN    149.0    154.0\n",
       "2    3     NaN     NaN     NaN  ...    205.0      NaN    152.0    153.0\n",
       "3    4     NaN     NaN     NaN  ...    207.0      NaN    153.0    154.0\n",
       "4    5     NaN     NaN     NaN  ...    203.0      NaN    151.0    152.0\n",
       "\n",
       "[5 rows x 16 columns]"
      ]
     },
     "metadata": {
      "tags": []
     },
     "output_type": "display_data"
    },
    {
     "name": "stdout",
     "output_type": "stream",
     "text": [
      "____________________________\n",
      "\n",
      "\n",
      "<class 'pandas.core.frame.DataFrame'>\n",
      "RangeIndex: 3129 entries, 0 to 3128\n",
      "Data columns (total 16 columns):\n",
      " #   Column   Non-Null Count  Dtype \n",
      "---  ------   --------------  ----- \n",
      " 0   key      3129 non-null   int64 \n",
      " 1   Bulk 1   252 non-null    object\n",
      " 2   Bulk 2   22 non-null     object\n",
      " 3   Bulk 3   1298 non-null   object\n",
      " 4   Bulk 4   1014 non-null   object\n",
      " 5   Bulk 5   77 non-null     object\n",
      " 6   Bulk 6   576 non-null    object\n",
      " 7   Bulk 7   25 non-null     object\n",
      " 8   Bulk 8   1 non-null      object\n",
      " 9   Bulk 9   19 non-null     object\n",
      " 10  Bulk 10  176 non-null    object\n",
      " 11  Bulk 11  177 non-null    object\n",
      " 12  Bulk 12  2450 non-null   object\n",
      " 13  Bulk 13  18 non-null     object\n",
      " 14  Bulk 14  2806 non-null   object\n",
      " 15  Bulk 15  2248 non-null   object\n",
      "dtypes: int64(1), object(15)\n",
      "memory usage: 391.2+ KB\n"
     ]
    },
    {
     "data": {
      "text/plain": [
       "None"
      ]
     },
     "metadata": {
      "tags": []
     },
     "output_type": "display_data"
    },
    {
     "data": {
      "text/html": [
       "<div>\n",
       "<style scoped>\n",
       "    .dataframe tbody tr th:only-of-type {\n",
       "        vertical-align: middle;\n",
       "    }\n",
       "\n",
       "    .dataframe tbody tr th {\n",
       "        vertical-align: top;\n",
       "    }\n",
       "\n",
       "    .dataframe thead th {\n",
       "        text-align: right;\n",
       "    }\n",
       "</style>\n",
       "<table border=\"1\" class=\"dataframe\">\n",
       "  <thead>\n",
       "    <tr style=\"text-align: right;\">\n",
       "      <th></th>\n",
       "      <th>key</th>\n",
       "      <th>Bulk 1</th>\n",
       "      <th>Bulk 2</th>\n",
       "      <th>Bulk 3</th>\n",
       "      <th>Bulk 4</th>\n",
       "      <th>Bulk 5</th>\n",
       "      <th>Bulk 6</th>\n",
       "      <th>Bulk 7</th>\n",
       "      <th>Bulk 8</th>\n",
       "      <th>Bulk 9</th>\n",
       "      <th>Bulk 10</th>\n",
       "      <th>Bulk 11</th>\n",
       "      <th>Bulk 12</th>\n",
       "      <th>Bulk 13</th>\n",
       "      <th>Bulk 14</th>\n",
       "      <th>Bulk 15</th>\n",
       "    </tr>\n",
       "  </thead>\n",
       "  <tbody>\n",
       "    <tr>\n",
       "      <th>0</th>\n",
       "      <td>1</td>\n",
       "      <td>NaN</td>\n",
       "      <td>NaN</td>\n",
       "      <td>NaN</td>\n",
       "      <td>2019-05-03 11:21:30</td>\n",
       "      <td>NaN</td>\n",
       "      <td>NaN</td>\n",
       "      <td>NaN</td>\n",
       "      <td>NaN</td>\n",
       "      <td>NaN</td>\n",
       "      <td>NaN</td>\n",
       "      <td>NaN</td>\n",
       "      <td>2019-05-03 11:03:52</td>\n",
       "      <td>NaN</td>\n",
       "      <td>2019-05-03 11:03:52</td>\n",
       "      <td>2019-05-03 11:03:52</td>\n",
       "    </tr>\n",
       "    <tr>\n",
       "      <th>1</th>\n",
       "      <td>2</td>\n",
       "      <td>NaN</td>\n",
       "      <td>NaN</td>\n",
       "      <td>NaN</td>\n",
       "      <td>2019-05-03 11:46:38</td>\n",
       "      <td>NaN</td>\n",
       "      <td>NaN</td>\n",
       "      <td>NaN</td>\n",
       "      <td>NaN</td>\n",
       "      <td>NaN</td>\n",
       "      <td>NaN</td>\n",
       "      <td>NaN</td>\n",
       "      <td>2019-05-03 11:40:20</td>\n",
       "      <td>NaN</td>\n",
       "      <td>2019-05-03 11:40:20</td>\n",
       "      <td>2019-05-03 11:40:20</td>\n",
       "    </tr>\n",
       "    <tr>\n",
       "      <th>2</th>\n",
       "      <td>3</td>\n",
       "      <td>NaN</td>\n",
       "      <td>NaN</td>\n",
       "      <td>NaN</td>\n",
       "      <td>2019-05-03 12:31:06</td>\n",
       "      <td>NaN</td>\n",
       "      <td>NaN</td>\n",
       "      <td>NaN</td>\n",
       "      <td>NaN</td>\n",
       "      <td>NaN</td>\n",
       "      <td>NaN</td>\n",
       "      <td>NaN</td>\n",
       "      <td>2019-05-03 12:09:40</td>\n",
       "      <td>NaN</td>\n",
       "      <td>2019-05-03 12:09:40</td>\n",
       "      <td>2019-05-03 12:09:40</td>\n",
       "    </tr>\n",
       "    <tr>\n",
       "      <th>3</th>\n",
       "      <td>4</td>\n",
       "      <td>NaN</td>\n",
       "      <td>NaN</td>\n",
       "      <td>NaN</td>\n",
       "      <td>2019-05-03 12:48:43</td>\n",
       "      <td>NaN</td>\n",
       "      <td>NaN</td>\n",
       "      <td>NaN</td>\n",
       "      <td>NaN</td>\n",
       "      <td>NaN</td>\n",
       "      <td>NaN</td>\n",
       "      <td>NaN</td>\n",
       "      <td>2019-05-03 12:41:24</td>\n",
       "      <td>NaN</td>\n",
       "      <td>2019-05-03 12:41:24</td>\n",
       "      <td>2019-05-03 12:41:24</td>\n",
       "    </tr>\n",
       "    <tr>\n",
       "      <th>4</th>\n",
       "      <td>5</td>\n",
       "      <td>NaN</td>\n",
       "      <td>NaN</td>\n",
       "      <td>NaN</td>\n",
       "      <td>2019-05-03 13:18:50</td>\n",
       "      <td>NaN</td>\n",
       "      <td>NaN</td>\n",
       "      <td>NaN</td>\n",
       "      <td>NaN</td>\n",
       "      <td>NaN</td>\n",
       "      <td>NaN</td>\n",
       "      <td>NaN</td>\n",
       "      <td>2019-05-03 13:12:56</td>\n",
       "      <td>NaN</td>\n",
       "      <td>2019-05-03 13:12:56</td>\n",
       "      <td>2019-05-03 13:12:56</td>\n",
       "    </tr>\n",
       "  </tbody>\n",
       "</table>\n",
       "</div>"
      ],
      "text/plain": [
       "   key Bulk 1 Bulk 2  ... Bulk 13              Bulk 14              Bulk 15\n",
       "0    1    NaN    NaN  ...     NaN  2019-05-03 11:03:52  2019-05-03 11:03:52\n",
       "1    2    NaN    NaN  ...     NaN  2019-05-03 11:40:20  2019-05-03 11:40:20\n",
       "2    3    NaN    NaN  ...     NaN  2019-05-03 12:09:40  2019-05-03 12:09:40\n",
       "3    4    NaN    NaN  ...     NaN  2019-05-03 12:41:24  2019-05-03 12:41:24\n",
       "4    5    NaN    NaN  ...     NaN  2019-05-03 13:12:56  2019-05-03 13:12:56\n",
       "\n",
       "[5 rows x 16 columns]"
      ]
     },
     "metadata": {
      "tags": []
     },
     "output_type": "display_data"
    },
    {
     "name": "stdout",
     "output_type": "stream",
     "text": [
      "____________________________\n",
      "\n",
      "\n",
      "<class 'pandas.core.frame.DataFrame'>\n",
      "RangeIndex: 3239 entries, 0 to 3238\n",
      "Data columns (total 2 columns):\n",
      " #   Column  Non-Null Count  Dtype  \n",
      "---  ------  --------------  -----  \n",
      " 0   key     3239 non-null   int64  \n",
      " 1   Газ 1   3239 non-null   float64\n",
      "dtypes: float64(1), int64(1)\n",
      "memory usage: 50.7 KB\n"
     ]
    },
    {
     "data": {
      "text/plain": [
       "None"
      ]
     },
     "metadata": {
      "tags": []
     },
     "output_type": "display_data"
    },
    {
     "data": {
      "text/html": [
       "<div>\n",
       "<style scoped>\n",
       "    .dataframe tbody tr th:only-of-type {\n",
       "        vertical-align: middle;\n",
       "    }\n",
       "\n",
       "    .dataframe tbody tr th {\n",
       "        vertical-align: top;\n",
       "    }\n",
       "\n",
       "    .dataframe thead th {\n",
       "        text-align: right;\n",
       "    }\n",
       "</style>\n",
       "<table border=\"1\" class=\"dataframe\">\n",
       "  <thead>\n",
       "    <tr style=\"text-align: right;\">\n",
       "      <th></th>\n",
       "      <th>key</th>\n",
       "      <th>Газ 1</th>\n",
       "    </tr>\n",
       "  </thead>\n",
       "  <tbody>\n",
       "    <tr>\n",
       "      <th>0</th>\n",
       "      <td>1</td>\n",
       "      <td>29.749986</td>\n",
       "    </tr>\n",
       "    <tr>\n",
       "      <th>1</th>\n",
       "      <td>2</td>\n",
       "      <td>12.555561</td>\n",
       "    </tr>\n",
       "    <tr>\n",
       "      <th>2</th>\n",
       "      <td>3</td>\n",
       "      <td>28.554793</td>\n",
       "    </tr>\n",
       "    <tr>\n",
       "      <th>3</th>\n",
       "      <td>4</td>\n",
       "      <td>18.841219</td>\n",
       "    </tr>\n",
       "    <tr>\n",
       "      <th>4</th>\n",
       "      <td>5</td>\n",
       "      <td>5.413692</td>\n",
       "    </tr>\n",
       "  </tbody>\n",
       "</table>\n",
       "</div>"
      ],
      "text/plain": [
       "   key      Газ 1\n",
       "0    1  29.749986\n",
       "1    2  12.555561\n",
       "2    3  28.554793\n",
       "3    4  18.841219\n",
       "4    5   5.413692"
      ]
     },
     "metadata": {
      "tags": []
     },
     "output_type": "display_data"
    },
    {
     "name": "stdout",
     "output_type": "stream",
     "text": [
      "____________________________\n",
      "\n",
      "\n",
      "<class 'pandas.core.frame.DataFrame'>\n",
      "RangeIndex: 15907 entries, 0 to 15906\n",
      "Data columns (total 3 columns):\n",
      " #   Column        Non-Null Count  Dtype  \n",
      "---  ------        --------------  -----  \n",
      " 0   key           15907 non-null  int64  \n",
      " 1   Время замера  15907 non-null  object \n",
      " 2   Температура   13006 non-null  float64\n",
      "dtypes: float64(1), int64(1), object(1)\n",
      "memory usage: 372.9+ KB\n"
     ]
    },
    {
     "data": {
      "text/plain": [
       "None"
      ]
     },
     "metadata": {
      "tags": []
     },
     "output_type": "display_data"
    },
    {
     "data": {
      "text/html": [
       "<div>\n",
       "<style scoped>\n",
       "    .dataframe tbody tr th:only-of-type {\n",
       "        vertical-align: middle;\n",
       "    }\n",
       "\n",
       "    .dataframe tbody tr th {\n",
       "        vertical-align: top;\n",
       "    }\n",
       "\n",
       "    .dataframe thead th {\n",
       "        text-align: right;\n",
       "    }\n",
       "</style>\n",
       "<table border=\"1\" class=\"dataframe\">\n",
       "  <thead>\n",
       "    <tr style=\"text-align: right;\">\n",
       "      <th></th>\n",
       "      <th>key</th>\n",
       "      <th>Время замера</th>\n",
       "      <th>Температура</th>\n",
       "    </tr>\n",
       "  </thead>\n",
       "  <tbody>\n",
       "    <tr>\n",
       "      <th>0</th>\n",
       "      <td>1</td>\n",
       "      <td>2019-05-03 11:16:18</td>\n",
       "      <td>1571.0</td>\n",
       "    </tr>\n",
       "    <tr>\n",
       "      <th>1</th>\n",
       "      <td>1</td>\n",
       "      <td>2019-05-03 11:25:53</td>\n",
       "      <td>1604.0</td>\n",
       "    </tr>\n",
       "    <tr>\n",
       "      <th>2</th>\n",
       "      <td>1</td>\n",
       "      <td>2019-05-03 11:29:11</td>\n",
       "      <td>1618.0</td>\n",
       "    </tr>\n",
       "    <tr>\n",
       "      <th>3</th>\n",
       "      <td>1</td>\n",
       "      <td>2019-05-03 11:30:01</td>\n",
       "      <td>1601.0</td>\n",
       "    </tr>\n",
       "    <tr>\n",
       "      <th>4</th>\n",
       "      <td>1</td>\n",
       "      <td>2019-05-03 11:30:39</td>\n",
       "      <td>1613.0</td>\n",
       "    </tr>\n",
       "  </tbody>\n",
       "</table>\n",
       "</div>"
      ],
      "text/plain": [
       "   key         Время замера  Температура\n",
       "0    1  2019-05-03 11:16:18       1571.0\n",
       "1    1  2019-05-03 11:25:53       1604.0\n",
       "2    1  2019-05-03 11:29:11       1618.0\n",
       "3    1  2019-05-03 11:30:01       1601.0\n",
       "4    1  2019-05-03 11:30:39       1613.0"
      ]
     },
     "metadata": {
      "tags": []
     },
     "output_type": "display_data"
    },
    {
     "name": "stdout",
     "output_type": "stream",
     "text": [
      "____________________________\n",
      "\n",
      "\n",
      "<class 'pandas.core.frame.DataFrame'>\n",
      "RangeIndex: 3081 entries, 0 to 3080\n",
      "Data columns (total 10 columns):\n",
      " #   Column  Non-Null Count  Dtype  \n",
      "---  ------  --------------  -----  \n",
      " 0   key     3081 non-null   int64  \n",
      " 1   Wire 1  3055 non-null   float64\n",
      " 2   Wire 2  1079 non-null   float64\n",
      " 3   Wire 3  63 non-null     float64\n",
      " 4   Wire 4  14 non-null     float64\n",
      " 5   Wire 5  1 non-null      float64\n",
      " 6   Wire 6  73 non-null     float64\n",
      " 7   Wire 7  11 non-null     float64\n",
      " 8   Wire 8  19 non-null     float64\n",
      " 9   Wire 9  29 non-null     float64\n",
      "dtypes: float64(9), int64(1)\n",
      "memory usage: 240.8 KB\n"
     ]
    },
    {
     "data": {
      "text/plain": [
       "None"
      ]
     },
     "metadata": {
      "tags": []
     },
     "output_type": "display_data"
    },
    {
     "data": {
      "text/html": [
       "<div>\n",
       "<style scoped>\n",
       "    .dataframe tbody tr th:only-of-type {\n",
       "        vertical-align: middle;\n",
       "    }\n",
       "\n",
       "    .dataframe tbody tr th {\n",
       "        vertical-align: top;\n",
       "    }\n",
       "\n",
       "    .dataframe thead th {\n",
       "        text-align: right;\n",
       "    }\n",
       "</style>\n",
       "<table border=\"1\" class=\"dataframe\">\n",
       "  <thead>\n",
       "    <tr style=\"text-align: right;\">\n",
       "      <th></th>\n",
       "      <th>key</th>\n",
       "      <th>Wire 1</th>\n",
       "      <th>Wire 2</th>\n",
       "      <th>Wire 3</th>\n",
       "      <th>Wire 4</th>\n",
       "      <th>Wire 5</th>\n",
       "      <th>Wire 6</th>\n",
       "      <th>Wire 7</th>\n",
       "      <th>Wire 8</th>\n",
       "      <th>Wire 9</th>\n",
       "    </tr>\n",
       "  </thead>\n",
       "  <tbody>\n",
       "    <tr>\n",
       "      <th>0</th>\n",
       "      <td>1</td>\n",
       "      <td>60.059998</td>\n",
       "      <td>NaN</td>\n",
       "      <td>NaN</td>\n",
       "      <td>NaN</td>\n",
       "      <td>NaN</td>\n",
       "      <td>NaN</td>\n",
       "      <td>NaN</td>\n",
       "      <td>NaN</td>\n",
       "      <td>NaN</td>\n",
       "    </tr>\n",
       "    <tr>\n",
       "      <th>1</th>\n",
       "      <td>2</td>\n",
       "      <td>96.052315</td>\n",
       "      <td>NaN</td>\n",
       "      <td>NaN</td>\n",
       "      <td>NaN</td>\n",
       "      <td>NaN</td>\n",
       "      <td>NaN</td>\n",
       "      <td>NaN</td>\n",
       "      <td>NaN</td>\n",
       "      <td>NaN</td>\n",
       "    </tr>\n",
       "    <tr>\n",
       "      <th>2</th>\n",
       "      <td>3</td>\n",
       "      <td>91.160157</td>\n",
       "      <td>NaN</td>\n",
       "      <td>NaN</td>\n",
       "      <td>NaN</td>\n",
       "      <td>NaN</td>\n",
       "      <td>NaN</td>\n",
       "      <td>NaN</td>\n",
       "      <td>NaN</td>\n",
       "      <td>NaN</td>\n",
       "    </tr>\n",
       "    <tr>\n",
       "      <th>3</th>\n",
       "      <td>4</td>\n",
       "      <td>89.063515</td>\n",
       "      <td>NaN</td>\n",
       "      <td>NaN</td>\n",
       "      <td>NaN</td>\n",
       "      <td>NaN</td>\n",
       "      <td>NaN</td>\n",
       "      <td>NaN</td>\n",
       "      <td>NaN</td>\n",
       "      <td>NaN</td>\n",
       "    </tr>\n",
       "    <tr>\n",
       "      <th>4</th>\n",
       "      <td>5</td>\n",
       "      <td>89.238236</td>\n",
       "      <td>9.11456</td>\n",
       "      <td>NaN</td>\n",
       "      <td>NaN</td>\n",
       "      <td>NaN</td>\n",
       "      <td>NaN</td>\n",
       "      <td>NaN</td>\n",
       "      <td>NaN</td>\n",
       "      <td>NaN</td>\n",
       "    </tr>\n",
       "  </tbody>\n",
       "</table>\n",
       "</div>"
      ],
      "text/plain": [
       "   key     Wire 1   Wire 2  Wire 3  ...  Wire 6  Wire 7  Wire 8  Wire 9\n",
       "0    1  60.059998      NaN     NaN  ...     NaN     NaN     NaN     NaN\n",
       "1    2  96.052315      NaN     NaN  ...     NaN     NaN     NaN     NaN\n",
       "2    3  91.160157      NaN     NaN  ...     NaN     NaN     NaN     NaN\n",
       "3    4  89.063515      NaN     NaN  ...     NaN     NaN     NaN     NaN\n",
       "4    5  89.238236  9.11456     NaN  ...     NaN     NaN     NaN     NaN\n",
       "\n",
       "[5 rows x 10 columns]"
      ]
     },
     "metadata": {
      "tags": []
     },
     "output_type": "display_data"
    },
    {
     "name": "stdout",
     "output_type": "stream",
     "text": [
      "____________________________\n",
      "\n",
      "\n",
      "<class 'pandas.core.frame.DataFrame'>\n",
      "RangeIndex: 3081 entries, 0 to 3080\n",
      "Data columns (total 10 columns):\n",
      " #   Column  Non-Null Count  Dtype \n",
      "---  ------  --------------  ----- \n",
      " 0   key     3081 non-null   int64 \n",
      " 1   Wire 1  3055 non-null   object\n",
      " 2   Wire 2  1079 non-null   object\n",
      " 3   Wire 3  63 non-null     object\n",
      " 4   Wire 4  14 non-null     object\n",
      " 5   Wire 5  1 non-null      object\n",
      " 6   Wire 6  73 non-null     object\n",
      " 7   Wire 7  11 non-null     object\n",
      " 8   Wire 8  19 non-null     object\n",
      " 9   Wire 9  29 non-null     object\n",
      "dtypes: int64(1), object(9)\n",
      "memory usage: 240.8+ KB\n"
     ]
    },
    {
     "data": {
      "text/plain": [
       "None"
      ]
     },
     "metadata": {
      "tags": []
     },
     "output_type": "display_data"
    },
    {
     "data": {
      "text/html": [
       "<div>\n",
       "<style scoped>\n",
       "    .dataframe tbody tr th:only-of-type {\n",
       "        vertical-align: middle;\n",
       "    }\n",
       "\n",
       "    .dataframe tbody tr th {\n",
       "        vertical-align: top;\n",
       "    }\n",
       "\n",
       "    .dataframe thead th {\n",
       "        text-align: right;\n",
       "    }\n",
       "</style>\n",
       "<table border=\"1\" class=\"dataframe\">\n",
       "  <thead>\n",
       "    <tr style=\"text-align: right;\">\n",
       "      <th></th>\n",
       "      <th>key</th>\n",
       "      <th>Wire 1</th>\n",
       "      <th>Wire 2</th>\n",
       "      <th>Wire 3</th>\n",
       "      <th>Wire 4</th>\n",
       "      <th>Wire 5</th>\n",
       "      <th>Wire 6</th>\n",
       "      <th>Wire 7</th>\n",
       "      <th>Wire 8</th>\n",
       "      <th>Wire 9</th>\n",
       "    </tr>\n",
       "  </thead>\n",
       "  <tbody>\n",
       "    <tr>\n",
       "      <th>0</th>\n",
       "      <td>1</td>\n",
       "      <td>2019-05-03 11:11:41</td>\n",
       "      <td>NaN</td>\n",
       "      <td>NaN</td>\n",
       "      <td>NaN</td>\n",
       "      <td>NaN</td>\n",
       "      <td>NaN</td>\n",
       "      <td>NaN</td>\n",
       "      <td>NaN</td>\n",
       "      <td>NaN</td>\n",
       "    </tr>\n",
       "    <tr>\n",
       "      <th>1</th>\n",
       "      <td>2</td>\n",
       "      <td>2019-05-03 11:46:10</td>\n",
       "      <td>NaN</td>\n",
       "      <td>NaN</td>\n",
       "      <td>NaN</td>\n",
       "      <td>NaN</td>\n",
       "      <td>NaN</td>\n",
       "      <td>NaN</td>\n",
       "      <td>NaN</td>\n",
       "      <td>NaN</td>\n",
       "    </tr>\n",
       "    <tr>\n",
       "      <th>2</th>\n",
       "      <td>3</td>\n",
       "      <td>2019-05-03 12:13:47</td>\n",
       "      <td>NaN</td>\n",
       "      <td>NaN</td>\n",
       "      <td>NaN</td>\n",
       "      <td>NaN</td>\n",
       "      <td>NaN</td>\n",
       "      <td>NaN</td>\n",
       "      <td>NaN</td>\n",
       "      <td>NaN</td>\n",
       "    </tr>\n",
       "    <tr>\n",
       "      <th>3</th>\n",
       "      <td>4</td>\n",
       "      <td>2019-05-03 12:48:05</td>\n",
       "      <td>NaN</td>\n",
       "      <td>NaN</td>\n",
       "      <td>NaN</td>\n",
       "      <td>NaN</td>\n",
       "      <td>NaN</td>\n",
       "      <td>NaN</td>\n",
       "      <td>NaN</td>\n",
       "      <td>NaN</td>\n",
       "    </tr>\n",
       "    <tr>\n",
       "      <th>4</th>\n",
       "      <td>5</td>\n",
       "      <td>2019-05-03 13:18:15</td>\n",
       "      <td>2019-05-03 13:32:06</td>\n",
       "      <td>NaN</td>\n",
       "      <td>NaN</td>\n",
       "      <td>NaN</td>\n",
       "      <td>NaN</td>\n",
       "      <td>NaN</td>\n",
       "      <td>NaN</td>\n",
       "      <td>NaN</td>\n",
       "    </tr>\n",
       "  </tbody>\n",
       "</table>\n",
       "</div>"
      ],
      "text/plain": [
       "   key               Wire 1               Wire 2  ... Wire 7 Wire 8 Wire 9\n",
       "0    1  2019-05-03 11:11:41                  NaN  ...    NaN    NaN    NaN\n",
       "1    2  2019-05-03 11:46:10                  NaN  ...    NaN    NaN    NaN\n",
       "2    3  2019-05-03 12:13:47                  NaN  ...    NaN    NaN    NaN\n",
       "3    4  2019-05-03 12:48:05                  NaN  ...    NaN    NaN    NaN\n",
       "4    5  2019-05-03 13:18:15  2019-05-03 13:32:06  ...    NaN    NaN    NaN\n",
       "\n",
       "[5 rows x 10 columns]"
      ]
     },
     "metadata": {
      "tags": []
     },
     "output_type": "display_data"
    },
    {
     "name": "stdout",
     "output_type": "stream",
     "text": [
      "____________________________\n",
      "\n",
      "\n"
     ]
    }
   ],
   "source": [
    "for df in data_all:\n",
    "    display(df.info())\n",
    "    display(df.head())\n",
    "    print('____________________________')\n",
    "    print('\\n')"
   ]
  },
  {
   "cell_type": "markdown",
   "id": "level-agent",
   "metadata": {
    "id": "level-agent"
   },
   "source": [
    "Датафреймы содержат столбцы, написанные кириллическими буквами. Для дальнейшего удобства анализа переименуем такие столбцы так, чтобы новые наименовия столбцов содержали только латинские буквы, а роль пробела играло нижнее подчеркивание."
   ]
  },
  {
   "cell_type": "code",
   "execution_count": 6,
   "id": "awful-arizona",
   "metadata": {
    "colab": {
     "base_uri": "https://localhost:8080/",
     "height": 560
    },
    "executionInfo": {
     "elapsed": 60629,
     "status": "ok",
     "timestamp": 1617296309052,
     "user": {
      "displayName": "Артем Пушкарев",
      "photoUrl": "https://lh3.googleusercontent.com/-RL5lE4v0_44/AAAAAAAAAAI/AAAAAAAABbM/1xJdlJgu_mk/s64/photo.jpg",
      "userId": "11449239081604091500"
     },
     "user_tz": -180
    },
    "id": "awful-arizona",
    "outputId": "5dd403d6-d99d-4c80-e69d-d93ef6c32144"
   },
   "outputs": [
    {
     "data": {
      "text/html": [
       "<div>\n",
       "<style scoped>\n",
       "    .dataframe tbody tr th:only-of-type {\n",
       "        vertical-align: middle;\n",
       "    }\n",
       "\n",
       "    .dataframe tbody tr th {\n",
       "        vertical-align: top;\n",
       "    }\n",
       "\n",
       "    .dataframe thead th {\n",
       "        text-align: right;\n",
       "    }\n",
       "</style>\n",
       "<table border=\"1\" class=\"dataframe\">\n",
       "  <thead>\n",
       "    <tr style=\"text-align: right;\">\n",
       "      <th></th>\n",
       "      <th>key</th>\n",
       "      <th>time_temperature</th>\n",
       "      <th>temperature</th>\n",
       "    </tr>\n",
       "  </thead>\n",
       "  <tbody>\n",
       "    <tr>\n",
       "      <th>0</th>\n",
       "      <td>1</td>\n",
       "      <td>2019-05-03 11:16:18</td>\n",
       "      <td>1571.0</td>\n",
       "    </tr>\n",
       "    <tr>\n",
       "      <th>1</th>\n",
       "      <td>1</td>\n",
       "      <td>2019-05-03 11:25:53</td>\n",
       "      <td>1604.0</td>\n",
       "    </tr>\n",
       "    <tr>\n",
       "      <th>2</th>\n",
       "      <td>1</td>\n",
       "      <td>2019-05-03 11:29:11</td>\n",
       "      <td>1618.0</td>\n",
       "    </tr>\n",
       "    <tr>\n",
       "      <th>3</th>\n",
       "      <td>1</td>\n",
       "      <td>2019-05-03 11:30:01</td>\n",
       "      <td>1601.0</td>\n",
       "    </tr>\n",
       "    <tr>\n",
       "      <th>4</th>\n",
       "      <td>1</td>\n",
       "      <td>2019-05-03 11:30:39</td>\n",
       "      <td>1613.0</td>\n",
       "    </tr>\n",
       "  </tbody>\n",
       "</table>\n",
       "</div>"
      ],
      "text/plain": [
       "   key     time_temperature  temperature\n",
       "0    1  2019-05-03 11:16:18       1571.0\n",
       "1    1  2019-05-03 11:25:53       1604.0\n",
       "2    1  2019-05-03 11:29:11       1618.0\n",
       "3    1  2019-05-03 11:30:01       1601.0\n",
       "4    1  2019-05-03 11:30:39       1613.0"
      ]
     },
     "metadata": {
      "tags": []
     },
     "output_type": "display_data"
    },
    {
     "data": {
      "text/html": [
       "<div>\n",
       "<style scoped>\n",
       "    .dataframe tbody tr th:only-of-type {\n",
       "        vertical-align: middle;\n",
       "    }\n",
       "\n",
       "    .dataframe tbody tr th {\n",
       "        vertical-align: top;\n",
       "    }\n",
       "\n",
       "    .dataframe thead th {\n",
       "        text-align: right;\n",
       "    }\n",
       "</style>\n",
       "<table border=\"1\" class=\"dataframe\">\n",
       "  <thead>\n",
       "    <tr style=\"text-align: right;\">\n",
       "      <th></th>\n",
       "      <th>key</th>\n",
       "      <th>time_start</th>\n",
       "      <th>time_end</th>\n",
       "      <th>active_power</th>\n",
       "      <th>reactive_power</th>\n",
       "    </tr>\n",
       "  </thead>\n",
       "  <tbody>\n",
       "    <tr>\n",
       "      <th>0</th>\n",
       "      <td>1</td>\n",
       "      <td>2019-05-03 11:02:14</td>\n",
       "      <td>2019-05-03 11:06:02</td>\n",
       "      <td>0.976059</td>\n",
       "      <td>0.687084</td>\n",
       "    </tr>\n",
       "    <tr>\n",
       "      <th>1</th>\n",
       "      <td>1</td>\n",
       "      <td>2019-05-03 11:07:28</td>\n",
       "      <td>2019-05-03 11:10:33</td>\n",
       "      <td>0.805607</td>\n",
       "      <td>0.520285</td>\n",
       "    </tr>\n",
       "    <tr>\n",
       "      <th>2</th>\n",
       "      <td>1</td>\n",
       "      <td>2019-05-03 11:11:44</td>\n",
       "      <td>2019-05-03 11:14:36</td>\n",
       "      <td>0.744363</td>\n",
       "      <td>0.498805</td>\n",
       "    </tr>\n",
       "    <tr>\n",
       "      <th>3</th>\n",
       "      <td>1</td>\n",
       "      <td>2019-05-03 11:18:14</td>\n",
       "      <td>2019-05-03 11:24:19</td>\n",
       "      <td>1.659363</td>\n",
       "      <td>1.062669</td>\n",
       "    </tr>\n",
       "    <tr>\n",
       "      <th>4</th>\n",
       "      <td>1</td>\n",
       "      <td>2019-05-03 11:26:09</td>\n",
       "      <td>2019-05-03 11:28:37</td>\n",
       "      <td>0.692755</td>\n",
       "      <td>0.414397</td>\n",
       "    </tr>\n",
       "  </tbody>\n",
       "</table>\n",
       "</div>"
      ],
      "text/plain": [
       "   key           time_start             time_end  active_power  reactive_power\n",
       "0    1  2019-05-03 11:02:14  2019-05-03 11:06:02      0.976059        0.687084\n",
       "1    1  2019-05-03 11:07:28  2019-05-03 11:10:33      0.805607        0.520285\n",
       "2    1  2019-05-03 11:11:44  2019-05-03 11:14:36      0.744363        0.498805\n",
       "3    1  2019-05-03 11:18:14  2019-05-03 11:24:19      1.659363        1.062669\n",
       "4    1  2019-05-03 11:26:09  2019-05-03 11:28:37      0.692755        0.414397"
      ]
     },
     "metadata": {
      "tags": []
     },
     "output_type": "display_data"
    },
    {
     "data": {
      "text/html": [
       "<div>\n",
       "<style scoped>\n",
       "    .dataframe tbody tr th:only-of-type {\n",
       "        vertical-align: middle;\n",
       "    }\n",
       "\n",
       "    .dataframe tbody tr th {\n",
       "        vertical-align: top;\n",
       "    }\n",
       "\n",
       "    .dataframe thead th {\n",
       "        text-align: right;\n",
       "    }\n",
       "</style>\n",
       "<table border=\"1\" class=\"dataframe\">\n",
       "  <thead>\n",
       "    <tr style=\"text-align: right;\">\n",
       "      <th></th>\n",
       "      <th>key</th>\n",
       "      <th>gas</th>\n",
       "    </tr>\n",
       "  </thead>\n",
       "  <tbody>\n",
       "    <tr>\n",
       "      <th>0</th>\n",
       "      <td>1</td>\n",
       "      <td>29.749986</td>\n",
       "    </tr>\n",
       "    <tr>\n",
       "      <th>1</th>\n",
       "      <td>2</td>\n",
       "      <td>12.555561</td>\n",
       "    </tr>\n",
       "    <tr>\n",
       "      <th>2</th>\n",
       "      <td>3</td>\n",
       "      <td>28.554793</td>\n",
       "    </tr>\n",
       "    <tr>\n",
       "      <th>3</th>\n",
       "      <td>4</td>\n",
       "      <td>18.841219</td>\n",
       "    </tr>\n",
       "    <tr>\n",
       "      <th>4</th>\n",
       "      <td>5</td>\n",
       "      <td>5.413692</td>\n",
       "    </tr>\n",
       "  </tbody>\n",
       "</table>\n",
       "</div>"
      ],
      "text/plain": [
       "   key        gas\n",
       "0    1  29.749986\n",
       "1    2  12.555561\n",
       "2    3  28.554793\n",
       "3    4  18.841219\n",
       "4    5   5.413692"
      ]
     },
     "metadata": {
      "tags": []
     },
     "output_type": "display_data"
    }
   ],
   "source": [
    "data_arc.rename(columns={'Начало нагрева дугой': 'time_start',\n",
    "                                    'Конец нагрева дугой': 'time_end',\n",
    "                                    'Активная мощность': 'active_power',\n",
    "                                    'Реактивная мощность': 'reactive_power'}, inplace=True)\n",
    "\n",
    "data_temp.rename(columns={'Время замера': 'time_temperature',\n",
    "                                      'Температура': 'temperature'}, inplace=True)\n",
    "\n",
    "data_gas.rename(columns={'Газ 1': 'gas'}, inplace=True)\n",
    "\n",
    "display(data_temp.head())\n",
    "display(data_arc.head())\n",
    "display(data_gas.head())"
   ]
  },
  {
   "cell_type": "markdown",
   "id": "continent-sleeve",
   "metadata": {
    "id": "continent-sleeve"
   },
   "source": [
    "Также заметим, что столбцы начала и конца нагрева дугой (`time_start`, `time_end`), а также время замера температуры (`time_temperature`) содержат неправильный тип данных (`object`). Исправим у данных столбцов тип данных на `datetime`."
   ]
  },
  {
   "cell_type": "code",
   "execution_count": 7,
   "id": "documented-tribe",
   "metadata": {
    "colab": {
     "base_uri": "https://localhost:8080/",
     "height": 443
    },
    "executionInfo": {
     "elapsed": 60607,
     "status": "ok",
     "timestamp": 1617296309057,
     "user": {
      "displayName": "Артем Пушкарев",
      "photoUrl": "https://lh3.googleusercontent.com/-RL5lE4v0_44/AAAAAAAAAAI/AAAAAAAABbM/1xJdlJgu_mk/s64/photo.jpg",
      "userId": "11449239081604091500"
     },
     "user_tz": -180
    },
    "id": "documented-tribe",
    "outputId": "97c0af44-8aa8-4d1e-f334-c7d5ae2e5e72"
   },
   "outputs": [
    {
     "name": "stdout",
     "output_type": "stream",
     "text": [
      "<class 'pandas.core.frame.DataFrame'>\n",
      "RangeIndex: 14876 entries, 0 to 14875\n",
      "Data columns (total 5 columns):\n",
      " #   Column          Non-Null Count  Dtype         \n",
      "---  ------          --------------  -----         \n",
      " 0   key             14876 non-null  int64         \n",
      " 1   time_start      14876 non-null  datetime64[ns]\n",
      " 2   time_end        14876 non-null  datetime64[ns]\n",
      " 3   active_power    14876 non-null  float64       \n",
      " 4   reactive_power  14876 non-null  float64       \n",
      "dtypes: datetime64[ns](2), float64(2), int64(1)\n",
      "memory usage: 581.2 KB\n"
     ]
    },
    {
     "data": {
      "text/plain": [
       "None"
      ]
     },
     "metadata": {
      "tags": []
     },
     "output_type": "display_data"
    },
    {
     "name": "stdout",
     "output_type": "stream",
     "text": [
      "<class 'pandas.core.frame.DataFrame'>\n",
      "RangeIndex: 15907 entries, 0 to 15906\n",
      "Data columns (total 3 columns):\n",
      " #   Column            Non-Null Count  Dtype         \n",
      "---  ------            --------------  -----         \n",
      " 0   key               15907 non-null  int64         \n",
      " 1   time_temperature  15907 non-null  datetime64[ns]\n",
      " 2   temperature       13006 non-null  float64       \n",
      "dtypes: datetime64[ns](1), float64(1), int64(1)\n",
      "memory usage: 372.9 KB\n"
     ]
    },
    {
     "data": {
      "text/plain": [
       "None"
      ]
     },
     "metadata": {
      "tags": []
     },
     "output_type": "display_data"
    }
   ],
   "source": [
    "for column in ['time_start', 'time_end']:\n",
    "    data_arc[column] = pd.to_datetime(data_arc[column], format='%Y-%m-%d %H:%M:%S')\n",
    "    \n",
    "data_temp['time_temperature'] = pd.to_datetime(data_temp['time_temperature'], format='%Y-%m-%d %H:%M:%S')\n",
    "\n",
    "display(data_arc.info())\n",
    "display(data_temp.info())"
   ]
  },
  {
   "cell_type": "markdown",
   "id": "pointed-suggestion",
   "metadata": {
    "id": "pointed-suggestion"
   },
   "source": [
    "Для датафремов `data_bulk`, `data_wire` и `data_gas` столбцы `key` установим в качестве индекса и проверим результат исправления."
   ]
  },
  {
   "cell_type": "code",
   "execution_count": 8,
   "id": "express-blogger",
   "metadata": {
    "colab": {
     "base_uri": "https://localhost:8080/"
    },
    "executionInfo": {
     "elapsed": 60582,
     "status": "ok",
     "timestamp": 1617296309059,
     "user": {
      "displayName": "Артем Пушкарев",
      "photoUrl": "https://lh3.googleusercontent.com/-RL5lE4v0_44/AAAAAAAAAAI/AAAAAAAABbM/1xJdlJgu_mk/s64/photo.jpg",
      "userId": "11449239081604091500"
     },
     "user_tz": -180
    },
    "id": "express-blogger",
    "outputId": "33a3a217-faa8-4daa-dc58-918defcf9af6"
   },
   "outputs": [
    {
     "name": "stdout",
     "output_type": "stream",
     "text": [
      "Наименование индекса датафрейма \"data_bulk\" - key\n",
      "Наименование индекса датафрейма \"data_wire\" - key\n",
      "Наименование индекса датафрейма \"data_gas\" - key\n"
     ]
    }
   ],
   "source": [
    "dfs = [data_bulk, data_wire, data_gas]\n",
    "\n",
    "for df in dfs:\n",
    "    df.set_index('key', inplace=True)\n",
    "    print('Наименование индекса датафрейма \"{}\" - {}'.format(df.name, df.index.name))"
   ]
  },
  {
   "cell_type": "markdown",
   "id": "virtual-gather",
   "metadata": {
    "id": "virtual-gather"
   },
   "source": [
    "Создадим новый столбец, отражающий продолжительность нагрева в секундах."
   ]
  },
  {
   "cell_type": "code",
   "execution_count": 9,
   "id": "interracial-database",
   "metadata": {
    "colab": {
     "base_uri": "https://localhost:8080/",
     "height": 197
    },
    "executionInfo": {
     "elapsed": 60555,
     "status": "ok",
     "timestamp": 1617296309062,
     "user": {
      "displayName": "Артем Пушкарев",
      "photoUrl": "https://lh3.googleusercontent.com/-RL5lE4v0_44/AAAAAAAAAAI/AAAAAAAABbM/1xJdlJgu_mk/s64/photo.jpg",
      "userId": "11449239081604091500"
     },
     "user_tz": -180
    },
    "id": "interracial-database",
    "outputId": "370bdd13-9a03-4a3c-9f07-f7410e78e746"
   },
   "outputs": [
    {
     "data": {
      "text/html": [
       "<div>\n",
       "<style scoped>\n",
       "    .dataframe tbody tr th:only-of-type {\n",
       "        vertical-align: middle;\n",
       "    }\n",
       "\n",
       "    .dataframe tbody tr th {\n",
       "        vertical-align: top;\n",
       "    }\n",
       "\n",
       "    .dataframe thead th {\n",
       "        text-align: right;\n",
       "    }\n",
       "</style>\n",
       "<table border=\"1\" class=\"dataframe\">\n",
       "  <thead>\n",
       "    <tr style=\"text-align: right;\">\n",
       "      <th></th>\n",
       "      <th>key</th>\n",
       "      <th>time_start</th>\n",
       "      <th>time_end</th>\n",
       "      <th>active_power</th>\n",
       "      <th>reactive_power</th>\n",
       "      <th>heating_duration</th>\n",
       "    </tr>\n",
       "  </thead>\n",
       "  <tbody>\n",
       "    <tr>\n",
       "      <th>0</th>\n",
       "      <td>1</td>\n",
       "      <td>2019-05-03 11:02:14</td>\n",
       "      <td>2019-05-03 11:06:02</td>\n",
       "      <td>0.976059</td>\n",
       "      <td>0.687084</td>\n",
       "      <td>228</td>\n",
       "    </tr>\n",
       "    <tr>\n",
       "      <th>1</th>\n",
       "      <td>1</td>\n",
       "      <td>2019-05-03 11:07:28</td>\n",
       "      <td>2019-05-03 11:10:33</td>\n",
       "      <td>0.805607</td>\n",
       "      <td>0.520285</td>\n",
       "      <td>185</td>\n",
       "    </tr>\n",
       "    <tr>\n",
       "      <th>2</th>\n",
       "      <td>1</td>\n",
       "      <td>2019-05-03 11:11:44</td>\n",
       "      <td>2019-05-03 11:14:36</td>\n",
       "      <td>0.744363</td>\n",
       "      <td>0.498805</td>\n",
       "      <td>172</td>\n",
       "    </tr>\n",
       "    <tr>\n",
       "      <th>3</th>\n",
       "      <td>1</td>\n",
       "      <td>2019-05-03 11:18:14</td>\n",
       "      <td>2019-05-03 11:24:19</td>\n",
       "      <td>1.659363</td>\n",
       "      <td>1.062669</td>\n",
       "      <td>365</td>\n",
       "    </tr>\n",
       "    <tr>\n",
       "      <th>4</th>\n",
       "      <td>1</td>\n",
       "      <td>2019-05-03 11:26:09</td>\n",
       "      <td>2019-05-03 11:28:37</td>\n",
       "      <td>0.692755</td>\n",
       "      <td>0.414397</td>\n",
       "      <td>148</td>\n",
       "    </tr>\n",
       "  </tbody>\n",
       "</table>\n",
       "</div>"
      ],
      "text/plain": [
       "   key          time_start  ... reactive_power  heating_duration\n",
       "0    1 2019-05-03 11:02:14  ...       0.687084               228\n",
       "1    1 2019-05-03 11:07:28  ...       0.520285               185\n",
       "2    1 2019-05-03 11:11:44  ...       0.498805               172\n",
       "3    1 2019-05-03 11:18:14  ...       1.062669               365\n",
       "4    1 2019-05-03 11:26:09  ...       0.414397               148\n",
       "\n",
       "[5 rows x 6 columns]"
      ]
     },
     "execution_count": 9,
     "metadata": {
      "tags": []
     },
     "output_type": "execute_result"
    }
   ],
   "source": [
    "data_arc['heating_duration'] = (data_arc['time_end'] - data_arc['time_start']).dt.total_seconds().astype(int)\n",
    "data_arc.head()"
   ]
  },
  {
   "cell_type": "markdown",
   "id": "quick-reggae",
   "metadata": {
    "id": "quick-reggae"
   },
   "source": [
    "Проверим распределение активной и реактивной мощностей у датафрейма `data_temp`."
   ]
  },
  {
   "cell_type": "code",
   "execution_count": 10,
   "id": "crucial-means",
   "metadata": {
    "colab": {
     "base_uri": "https://localhost:8080/",
     "height": 605
    },
    "executionInfo": {
     "elapsed": 61580,
     "status": "ok",
     "timestamp": 1617296310142,
     "user": {
      "displayName": "Артем Пушкарев",
      "photoUrl": "https://lh3.googleusercontent.com/-RL5lE4v0_44/AAAAAAAAAAI/AAAAAAAABbM/1xJdlJgu_mk/s64/photo.jpg",
      "userId": "11449239081604091500"
     },
     "user_tz": -180
    },
    "id": "crucial-means",
    "outputId": "bbb46d8b-c4a1-4bdd-84d4-6ea209415c8a"
   },
   "outputs": [
    {
     "data": {
      "image/png": "[encoded data removed]",
      "text/plain": [
       "<Figure size 1800x720 with 2 Axes>"
      ]
     },
     "metadata": {
      "needs_background": "light",
      "tags": []
     },
     "output_type": "display_data"
    }
   ],
   "source": [
    "fig = plt.figure(figsize=(25, 10))\n",
    "\n",
    "cols = 2\n",
    "rows = 1 \n",
    "counter = 1\n",
    "for column in ['active_power', 'reactive_power']:\n",
    "    ax = plt.subplot(rows, cols, counter)\n",
    "    plt.xlabel('Значение признака', fontsize=15)\n",
    "    plt.ylabel('Кол-во, шт.', fontsize=13)\n",
    "    ax.set_title(column, fontsize=20)\n",
    "    data_arc[column].hist(bins=30)\n",
    "    counter += 1\n",
    "plt.show();"
   ]
  },
  {
   "cell_type": "markdown",
   "id": "fancy-fabric",
   "metadata": {
    "id": "fancy-fabric"
   },
   "source": [
    "График \"reactive_power\" имеет аномальный масштаб: на оси абцисс отображены отрицательные значения, что указывает на наличие отрицательных значений в столбце `reactive_power`. Удалим из датафрейма `data_arc` строки, содержащие отрицательные значения в столбце `reactive_power`, и проверим результат исправления."
   ]
  },
  {
   "cell_type": "code",
   "execution_count": 11,
   "id": "combined-dylan",
   "metadata": {
    "colab": {
     "base_uri": "https://localhost:8080/"
    },
    "executionInfo": {
     "elapsed": 61543,
     "status": "ok",
     "timestamp": 1617296310144,
     "user": {
      "displayName": "Артем Пушкарев",
      "photoUrl": "https://lh3.googleusercontent.com/-RL5lE4v0_44/AAAAAAAAAAI/AAAAAAAABbM/1xJdlJgu_mk/s64/photo.jpg",
      "userId": "11449239081604091500"
     },
     "user_tz": -180
    },
    "id": "combined-dylan",
    "outputId": "ed590281-8ece-43ab-f393-3c1162d79676"
   },
   "outputs": [
    {
     "name": "stdout",
     "output_type": "stream",
     "text": [
      "Количество строк с отрицательными значениями в столбце \"reactive_power\": 0\n"
     ]
    }
   ],
   "source": [
    "data_arc = data_arc[data_arc['reactive_power'] >= 0]\n",
    "\n",
    "print('Количество строк с отрицательными значениями в столбце \"reactive_power\": {}'\n",
    "      .format(data_arc[data_arc['reactive_power'] < 0].shape[0]))"
   ]
  },
  {
   "cell_type": "markdown",
   "id": "contained-reasoning",
   "metadata": {
    "id": "contained-reasoning"
   },
   "source": [
    "Создадим сводную таблицу `data_arc_pivot`, которая отражает средневзешенные значения активной и реактивной мощностей, где весами являются продолжительность нагрева."
   ]
  },
  {
   "cell_type": "code",
   "execution_count": 12,
   "id": "developing-license",
   "metadata": {
    "colab": {
     "base_uri": "https://localhost:8080/",
     "height": 436
    },
    "executionInfo": {
     "elapsed": 63344,
     "status": "ok",
     "timestamp": 1617296311988,
     "user": {
      "displayName": "Артем Пушкарев",
      "photoUrl": "https://lh3.googleusercontent.com/-RL5lE4v0_44/AAAAAAAAAAI/AAAAAAAABbM/1xJdlJgu_mk/s64/photo.jpg",
      "userId": "11449239081604091500"
     },
     "user_tz": -180
    },
    "id": "developing-license",
    "outputId": "329261d4-e180-458e-b037-151d681d7654"
   },
   "outputs": [
    {
     "data": {
      "text/html": [
       "<div>\n",
       "<style scoped>\n",
       "    .dataframe tbody tr th:only-of-type {\n",
       "        vertical-align: middle;\n",
       "    }\n",
       "\n",
       "    .dataframe tbody tr th {\n",
       "        vertical-align: top;\n",
       "    }\n",
       "\n",
       "    .dataframe thead th {\n",
       "        text-align: right;\n",
       "    }\n",
       "</style>\n",
       "<table border=\"1\" class=\"dataframe\">\n",
       "  <thead>\n",
       "    <tr style=\"text-align: right;\">\n",
       "      <th></th>\n",
       "      <th>active_power_wavg</th>\n",
       "      <th>reactive_power_wavg</th>\n",
       "      <th>heating_duration</th>\n",
       "    </tr>\n",
       "    <tr>\n",
       "      <th>key</th>\n",
       "      <th></th>\n",
       "      <th></th>\n",
       "      <th></th>\n",
       "    </tr>\n",
       "  </thead>\n",
       "  <tbody>\n",
       "    <tr>\n",
       "      <th>1</th>\n",
       "      <td>1.100004</td>\n",
       "      <td>0.717584</td>\n",
       "      <td>1098</td>\n",
       "    </tr>\n",
       "    <tr>\n",
       "      <th>2</th>\n",
       "      <td>0.904829</td>\n",
       "      <td>0.601222</td>\n",
       "      <td>811</td>\n",
       "    </tr>\n",
       "    <tr>\n",
       "      <th>3</th>\n",
       "      <td>0.677226</td>\n",
       "      <td>0.428911</td>\n",
       "      <td>655</td>\n",
       "    </tr>\n",
       "    <tr>\n",
       "      <th>4</th>\n",
       "      <td>0.905079</td>\n",
       "      <td>0.580210</td>\n",
       "      <td>741</td>\n",
       "    </tr>\n",
       "    <tr>\n",
       "      <th>5</th>\n",
       "      <td>1.147867</td>\n",
       "      <td>0.765178</td>\n",
       "      <td>869</td>\n",
       "    </tr>\n",
       "    <tr>\n",
       "      <th>...</th>\n",
       "      <td>...</td>\n",
       "      <td>...</td>\n",
       "      <td>...</td>\n",
       "    </tr>\n",
       "    <tr>\n",
       "      <th>3237</th>\n",
       "      <td>0.855878</td>\n",
       "      <td>0.615329</td>\n",
       "      <td>909</td>\n",
       "    </tr>\n",
       "    <tr>\n",
       "      <th>3238</th>\n",
       "      <td>0.792764</td>\n",
       "      <td>0.637991</td>\n",
       "      <td>546</td>\n",
       "    </tr>\n",
       "    <tr>\n",
       "      <th>3239</th>\n",
       "      <td>0.694883</td>\n",
       "      <td>0.458853</td>\n",
       "      <td>1216</td>\n",
       "    </tr>\n",
       "    <tr>\n",
       "      <th>3240</th>\n",
       "      <td>0.660647</td>\n",
       "      <td>0.562102</td>\n",
       "      <td>839</td>\n",
       "    </tr>\n",
       "    <tr>\n",
       "      <th>3241</th>\n",
       "      <td>0.573634</td>\n",
       "      <td>0.397060</td>\n",
       "      <td>659</td>\n",
       "    </tr>\n",
       "  </tbody>\n",
       "</table>\n",
       "<p>3214 rows × 3 columns</p>\n",
       "</div>"
      ],
      "text/plain": [
       "      active_power_wavg  reactive_power_wavg  heating_duration\n",
       "key                                                           \n",
       "1              1.100004             0.717584              1098\n",
       "2              0.904829             0.601222               811\n",
       "3              0.677226             0.428911               655\n",
       "4              0.905079             0.580210               741\n",
       "5              1.147867             0.765178               869\n",
       "...                 ...                  ...               ...\n",
       "3237           0.855878             0.615329               909\n",
       "3238           0.792764             0.637991               546\n",
       "3239           0.694883             0.458853              1216\n",
       "3240           0.660647             0.562102               839\n",
       "3241           0.573634             0.397060               659\n",
       "\n",
       "[3214 rows x 3 columns]"
      ]
     },
     "execution_count": 12,
     "metadata": {
      "tags": []
     },
     "output_type": "execute_result"
    }
   ],
   "source": [
    "data_arc_pivot = data_arc.pivot_table(values='active_power',\n",
    "                                      index='key',\n",
    "                                      aggfunc=lambda rows: np.average(rows, weights=data_arc.loc[rows.index, 'heating_duration']))\n",
    "\n",
    "data_arc_pivot = data_arc_pivot.merge(data_arc.pivot_table(values='reactive_power',\n",
    "                                                           index='key',\n",
    "                                                           aggfunc=lambda rows: np.average(rows, weights=data_arc.loc[rows.index, 'heating_duration'])),\n",
    "                                      on='key')\n",
    "data_arc_pivot = data_arc_pivot.rename(columns={'active_power': 'active_power_wavg',\n",
    "                                                'reactive_power':'reactive_power_wavg'})\n",
    "\n",
    "data_arc_pivot = data_arc_pivot.merge(data_arc.pivot_table(values='heating_duration',\n",
    "                                         index='key',\n",
    "                                         aggfunc='sum'),\n",
    "                     on='key')\n",
    "data_arc_pivot"
   ]
  },
  {
   "cell_type": "markdown",
   "id": "extensive-grammar",
   "metadata": {
    "id": "extensive-grammar"
   },
   "source": [
    "Создадим сводную таблицу `data_temp_pivot`, которая отражает температуру начального замера (`start_temperature`) и температуру итогового замера (`end_temperature`)."
   ]
  },
  {
   "cell_type": "code",
   "execution_count": 13,
   "id": "subject-schema",
   "metadata": {
    "colab": {
     "base_uri": "https://localhost:8080/",
     "height": 436
    },
    "executionInfo": {
     "elapsed": 67250,
     "status": "ok",
     "timestamp": 1617296315917,
     "user": {
      "displayName": "Артем Пушкарев",
      "photoUrl": "https://lh3.googleusercontent.com/-RL5lE4v0_44/AAAAAAAAAAI/AAAAAAAABbM/1xJdlJgu_mk/s64/photo.jpg",
      "userId": "11449239081604091500"
     },
     "user_tz": -180
    },
    "id": "subject-schema",
    "outputId": "809e6e53-ae02-4052-fc78-d0653ac8426d"
   },
   "outputs": [
    {
     "data": {
      "text/html": [
       "<div>\n",
       "<style scoped>\n",
       "    .dataframe tbody tr th:only-of-type {\n",
       "        vertical-align: middle;\n",
       "    }\n",
       "\n",
       "    .dataframe tbody tr th {\n",
       "        vertical-align: top;\n",
       "    }\n",
       "\n",
       "    .dataframe thead th {\n",
       "        text-align: right;\n",
       "    }\n",
       "</style>\n",
       "<table border=\"1\" class=\"dataframe\">\n",
       "  <thead>\n",
       "    <tr style=\"text-align: right;\">\n",
       "      <th></th>\n",
       "      <th>start_temperature</th>\n",
       "      <th>end_temperature</th>\n",
       "    </tr>\n",
       "    <tr>\n",
       "      <th>key</th>\n",
       "      <th></th>\n",
       "      <th></th>\n",
       "    </tr>\n",
       "  </thead>\n",
       "  <tbody>\n",
       "    <tr>\n",
       "      <th>1</th>\n",
       "      <td>1571.0</td>\n",
       "      <td>1613.0</td>\n",
       "    </tr>\n",
       "    <tr>\n",
       "      <th>2</th>\n",
       "      <td>1581.0</td>\n",
       "      <td>1602.0</td>\n",
       "    </tr>\n",
       "    <tr>\n",
       "      <th>3</th>\n",
       "      <td>1596.0</td>\n",
       "      <td>1599.0</td>\n",
       "    </tr>\n",
       "    <tr>\n",
       "      <th>4</th>\n",
       "      <td>1601.0</td>\n",
       "      <td>1625.0</td>\n",
       "    </tr>\n",
       "    <tr>\n",
       "      <th>5</th>\n",
       "      <td>1576.0</td>\n",
       "      <td>1602.0</td>\n",
       "    </tr>\n",
       "    <tr>\n",
       "      <th>...</th>\n",
       "      <td>...</td>\n",
       "      <td>...</td>\n",
       "    </tr>\n",
       "    <tr>\n",
       "      <th>3237</th>\n",
       "      <td>1569.0</td>\n",
       "      <td>NaN</td>\n",
       "    </tr>\n",
       "    <tr>\n",
       "      <th>3238</th>\n",
       "      <td>1584.0</td>\n",
       "      <td>NaN</td>\n",
       "    </tr>\n",
       "    <tr>\n",
       "      <th>3239</th>\n",
       "      <td>1598.0</td>\n",
       "      <td>NaN</td>\n",
       "    </tr>\n",
       "    <tr>\n",
       "      <th>3240</th>\n",
       "      <td>1617.0</td>\n",
       "      <td>NaN</td>\n",
       "    </tr>\n",
       "    <tr>\n",
       "      <th>3241</th>\n",
       "      <td>1586.0</td>\n",
       "      <td>NaN</td>\n",
       "    </tr>\n",
       "  </tbody>\n",
       "</table>\n",
       "<p>3216 rows × 2 columns</p>\n",
       "</div>"
      ],
      "text/plain": [
       "      start_temperature  end_temperature\n",
       "key                                     \n",
       "1                1571.0           1613.0\n",
       "2                1581.0           1602.0\n",
       "3                1596.0           1599.0\n",
       "4                1601.0           1625.0\n",
       "5                1576.0           1602.0\n",
       "...                 ...              ...\n",
       "3237             1569.0              NaN\n",
       "3238             1584.0              NaN\n",
       "3239             1598.0              NaN\n",
       "3240             1617.0              NaN\n",
       "3241             1586.0              NaN\n",
       "\n",
       "[3216 rows x 2 columns]"
      ]
     },
     "execution_count": 13,
     "metadata": {
      "tags": []
     },
     "output_type": "execute_result"
    }
   ],
   "source": [
    "data_temp_pivot = (data_temp.pivot_table(values='time_temperature',\n",
    "                                       index='key',\n",
    "                                       aggfunc=(lambda rows: data_temp.loc[data_temp.index[data_temp['time_temperature'] == rows.min()], 'temperature'],\n",
    "                                                lambda rows: data_temp.loc[data_temp.index[data_temp['time_temperature'] == rows.max()], 'temperature']))\n",
    "                  .rename(columns={'<lambda_0>': 'start_temperature','<lambda_1>': 'end_temperature'}))\n",
    "\n",
    "data_temp_pivot"
   ]
  },
  {
   "cell_type": "markdown",
   "id": "compatible-samuel",
   "metadata": {
    "id": "compatible-samuel"
   },
   "source": [
    "Возможно у некоторых партий обработки (`key`) температура измерялась один раз. Для таких партий нельзя говорить о начальной и итоговой температуре, а точнее такие партии имеют только начальную температуру, но не имеют итоговую. Удалим из сводной таблицы `data_temp_pivot` те строки, которые содержат в столбце `end_temperature` пустые значения (`NaN`)."
   ]
  },
  {
   "cell_type": "code",
   "execution_count": 14,
   "id": "architectural-christmas",
   "metadata": {
    "colab": {
     "base_uri": "https://localhost:8080/",
     "height": 436
    },
    "executionInfo": {
     "elapsed": 67233,
     "status": "ok",
     "timestamp": 1617296315928,
     "user": {
      "displayName": "Артем Пушкарев",
      "photoUrl": "https://lh3.googleusercontent.com/-RL5lE4v0_44/AAAAAAAAAAI/AAAAAAAABbM/1xJdlJgu_mk/s64/photo.jpg",
      "userId": "11449239081604091500"
     },
     "user_tz": -180
    },
    "id": "architectural-christmas",
    "outputId": "8f68b1b2-a3c0-48f0-e63f-006c1590f3fd"
   },
   "outputs": [
    {
     "data": {
      "text/html": [
       "<div>\n",
       "<style scoped>\n",
       "    .dataframe tbody tr th:only-of-type {\n",
       "        vertical-align: middle;\n",
       "    }\n",
       "\n",
       "    .dataframe tbody tr th {\n",
       "        vertical-align: top;\n",
       "    }\n",
       "\n",
       "    .dataframe thead th {\n",
       "        text-align: right;\n",
       "    }\n",
       "</style>\n",
       "<table border=\"1\" class=\"dataframe\">\n",
       "  <thead>\n",
       "    <tr style=\"text-align: right;\">\n",
       "      <th></th>\n",
       "      <th>start_temperature</th>\n",
       "      <th>end_temperature</th>\n",
       "    </tr>\n",
       "    <tr>\n",
       "      <th>key</th>\n",
       "      <th></th>\n",
       "      <th></th>\n",
       "    </tr>\n",
       "  </thead>\n",
       "  <tbody>\n",
       "    <tr>\n",
       "      <th>1</th>\n",
       "      <td>1571.0</td>\n",
       "      <td>1613.0</td>\n",
       "    </tr>\n",
       "    <tr>\n",
       "      <th>2</th>\n",
       "      <td>1581.0</td>\n",
       "      <td>1602.0</td>\n",
       "    </tr>\n",
       "    <tr>\n",
       "      <th>3</th>\n",
       "      <td>1596.0</td>\n",
       "      <td>1599.0</td>\n",
       "    </tr>\n",
       "    <tr>\n",
       "      <th>4</th>\n",
       "      <td>1601.0</td>\n",
       "      <td>1625.0</td>\n",
       "    </tr>\n",
       "    <tr>\n",
       "      <th>5</th>\n",
       "      <td>1576.0</td>\n",
       "      <td>1602.0</td>\n",
       "    </tr>\n",
       "    <tr>\n",
       "      <th>...</th>\n",
       "      <td>...</td>\n",
       "      <td>...</td>\n",
       "    </tr>\n",
       "    <tr>\n",
       "      <th>2495</th>\n",
       "      <td>1570.0</td>\n",
       "      <td>1591.0</td>\n",
       "    </tr>\n",
       "    <tr>\n",
       "      <th>2496</th>\n",
       "      <td>1554.0</td>\n",
       "      <td>1591.0</td>\n",
       "    </tr>\n",
       "    <tr>\n",
       "      <th>2497</th>\n",
       "      <td>1571.0</td>\n",
       "      <td>1589.0</td>\n",
       "    </tr>\n",
       "    <tr>\n",
       "      <th>2498</th>\n",
       "      <td>1591.0</td>\n",
       "      <td>1594.0</td>\n",
       "    </tr>\n",
       "    <tr>\n",
       "      <th>2499</th>\n",
       "      <td>1569.0</td>\n",
       "      <td>1603.0</td>\n",
       "    </tr>\n",
       "  </tbody>\n",
       "</table>\n",
       "<p>2477 rows × 2 columns</p>\n",
       "</div>"
      ],
      "text/plain": [
       "      start_temperature  end_temperature\n",
       "key                                     \n",
       "1                1571.0           1613.0\n",
       "2                1581.0           1602.0\n",
       "3                1596.0           1599.0\n",
       "4                1601.0           1625.0\n",
       "5                1576.0           1602.0\n",
       "...                 ...              ...\n",
       "2495             1570.0           1591.0\n",
       "2496             1554.0           1591.0\n",
       "2497             1571.0           1589.0\n",
       "2498             1591.0           1594.0\n",
       "2499             1569.0           1603.0\n",
       "\n",
       "[2477 rows x 2 columns]"
      ]
     },
     "execution_count": 14,
     "metadata": {
      "tags": []
     },
     "output_type": "execute_result"
    }
   ],
   "source": [
    "data_temp_pivot = data_temp_pivot.dropna(subset=['end_temperature'])\n",
    "data_temp_pivot"
   ]
  },
  {
   "cell_type": "markdown",
   "id": "bottom-speaker",
   "metadata": {
    "id": "bottom-speaker"
   },
   "source": [
    "Объединим таблицы `data_temp_pivot`, `data_arc_pivot`, `data_bulk`, `data_gas` и `data_wire` с помощью метода `.join`."
   ]
  },
  {
   "cell_type": "code",
   "execution_count": 15,
   "id": "hydraulic-coordinate",
   "metadata": {
    "colab": {
     "base_uri": "https://localhost:8080/",
     "height": 473
    },
    "executionInfo": {
     "elapsed": 67166,
     "status": "ok",
     "timestamp": 1617296315930,
     "user": {
      "displayName": "Артем Пушкарев",
      "photoUrl": "https://lh3.googleusercontent.com/-RL5lE4v0_44/AAAAAAAAAAI/AAAAAAAABbM/1xJdlJgu_mk/s64/photo.jpg",
      "userId": "11449239081604091500"
     },
     "user_tz": -180
    },
    "id": "hydraulic-coordinate",
    "outputId": "bbc7cba0-5977-40cd-c4e2-a300eeac591c",
    "scrolled": false
   },
   "outputs": [
    {
     "data": {
      "text/html": [
       "<div>\n",
       "<style scoped>\n",
       "    .dataframe tbody tr th:only-of-type {\n",
       "        vertical-align: middle;\n",
       "    }\n",
       "\n",
       "    .dataframe tbody tr th {\n",
       "        vertical-align: top;\n",
       "    }\n",
       "\n",
       "    .dataframe thead th {\n",
       "        text-align: right;\n",
       "    }\n",
       "</style>\n",
       "<table border=\"1\" class=\"dataframe\">\n",
       "  <thead>\n",
       "    <tr style=\"text-align: right;\">\n",
       "      <th></th>\n",
       "      <th>start_temperature</th>\n",
       "      <th>end_temperature</th>\n",
       "      <th>active_power_wavg</th>\n",
       "      <th>reactive_power_wavg</th>\n",
       "      <th>heating_duration</th>\n",
       "      <th>Bulk 1</th>\n",
       "      <th>Bulk 2</th>\n",
       "      <th>Bulk 3</th>\n",
       "      <th>Bulk 4</th>\n",
       "      <th>Bulk 5</th>\n",
       "      <th>Bulk 6</th>\n",
       "      <th>Bulk 7</th>\n",
       "      <th>Bulk 8</th>\n",
       "      <th>Bulk 9</th>\n",
       "      <th>Bulk 10</th>\n",
       "      <th>Bulk 11</th>\n",
       "      <th>Bulk 12</th>\n",
       "      <th>Bulk 13</th>\n",
       "      <th>Bulk 14</th>\n",
       "      <th>Bulk 15</th>\n",
       "      <th>gas</th>\n",
       "      <th>Wire 1</th>\n",
       "      <th>Wire 2</th>\n",
       "      <th>Wire 3</th>\n",
       "      <th>Wire 4</th>\n",
       "      <th>Wire 5</th>\n",
       "      <th>Wire 6</th>\n",
       "      <th>Wire 7</th>\n",
       "      <th>Wire 8</th>\n",
       "      <th>Wire 9</th>\n",
       "    </tr>\n",
       "    <tr>\n",
       "      <th>key</th>\n",
       "      <th></th>\n",
       "      <th></th>\n",
       "      <th></th>\n",
       "      <th></th>\n",
       "      <th></th>\n",
       "      <th></th>\n",
       "      <th></th>\n",
       "      <th></th>\n",
       "      <th></th>\n",
       "      <th></th>\n",
       "      <th></th>\n",
       "      <th></th>\n",
       "      <th></th>\n",
       "      <th></th>\n",
       "      <th></th>\n",
       "      <th></th>\n",
       "      <th></th>\n",
       "      <th></th>\n",
       "      <th></th>\n",
       "      <th></th>\n",
       "      <th></th>\n",
       "      <th></th>\n",
       "      <th></th>\n",
       "      <th></th>\n",
       "      <th></th>\n",
       "      <th></th>\n",
       "      <th></th>\n",
       "      <th></th>\n",
       "      <th></th>\n",
       "      <th></th>\n",
       "    </tr>\n",
       "  </thead>\n",
       "  <tbody>\n",
       "    <tr>\n",
       "      <th>1</th>\n",
       "      <td>1571.0</td>\n",
       "      <td>1613.0</td>\n",
       "      <td>1.100004</td>\n",
       "      <td>0.717584</td>\n",
       "      <td>1098.0</td>\n",
       "      <td>NaN</td>\n",
       "      <td>NaN</td>\n",
       "      <td>NaN</td>\n",
       "      <td>43.0</td>\n",
       "      <td>NaN</td>\n",
       "      <td>NaN</td>\n",
       "      <td>NaN</td>\n",
       "      <td>NaN</td>\n",
       "      <td>NaN</td>\n",
       "      <td>NaN</td>\n",
       "      <td>NaN</td>\n",
       "      <td>206.0</td>\n",
       "      <td>NaN</td>\n",
       "      <td>150.0</td>\n",
       "      <td>154.0</td>\n",
       "      <td>29.749986</td>\n",
       "      <td>60.059998</td>\n",
       "      <td>NaN</td>\n",
       "      <td>NaN</td>\n",
       "      <td>NaN</td>\n",
       "      <td>NaN</td>\n",
       "      <td>NaN</td>\n",
       "      <td>NaN</td>\n",
       "      <td>NaN</td>\n",
       "      <td>NaN</td>\n",
       "    </tr>\n",
       "    <tr>\n",
       "      <th>2</th>\n",
       "      <td>1581.0</td>\n",
       "      <td>1602.0</td>\n",
       "      <td>0.904829</td>\n",
       "      <td>0.601222</td>\n",
       "      <td>811.0</td>\n",
       "      <td>NaN</td>\n",
       "      <td>NaN</td>\n",
       "      <td>NaN</td>\n",
       "      <td>73.0</td>\n",
       "      <td>NaN</td>\n",
       "      <td>NaN</td>\n",
       "      <td>NaN</td>\n",
       "      <td>NaN</td>\n",
       "      <td>NaN</td>\n",
       "      <td>NaN</td>\n",
       "      <td>NaN</td>\n",
       "      <td>206.0</td>\n",
       "      <td>NaN</td>\n",
       "      <td>149.0</td>\n",
       "      <td>154.0</td>\n",
       "      <td>12.555561</td>\n",
       "      <td>96.052315</td>\n",
       "      <td>NaN</td>\n",
       "      <td>NaN</td>\n",
       "      <td>NaN</td>\n",
       "      <td>NaN</td>\n",
       "      <td>NaN</td>\n",
       "      <td>NaN</td>\n",
       "      <td>NaN</td>\n",
       "      <td>NaN</td>\n",
       "    </tr>\n",
       "    <tr>\n",
       "      <th>3</th>\n",
       "      <td>1596.0</td>\n",
       "      <td>1599.0</td>\n",
       "      <td>0.677226</td>\n",
       "      <td>0.428911</td>\n",
       "      <td>655.0</td>\n",
       "      <td>NaN</td>\n",
       "      <td>NaN</td>\n",
       "      <td>NaN</td>\n",
       "      <td>34.0</td>\n",
       "      <td>NaN</td>\n",
       "      <td>NaN</td>\n",
       "      <td>NaN</td>\n",
       "      <td>NaN</td>\n",
       "      <td>NaN</td>\n",
       "      <td>NaN</td>\n",
       "      <td>NaN</td>\n",
       "      <td>205.0</td>\n",
       "      <td>NaN</td>\n",
       "      <td>152.0</td>\n",
       "      <td>153.0</td>\n",
       "      <td>28.554793</td>\n",
       "      <td>91.160157</td>\n",
       "      <td>NaN</td>\n",
       "      <td>NaN</td>\n",
       "      <td>NaN</td>\n",
       "      <td>NaN</td>\n",
       "      <td>NaN</td>\n",
       "      <td>NaN</td>\n",
       "      <td>NaN</td>\n",
       "      <td>NaN</td>\n",
       "    </tr>\n",
       "    <tr>\n",
       "      <th>4</th>\n",
       "      <td>1601.0</td>\n",
       "      <td>1625.0</td>\n",
       "      <td>0.905079</td>\n",
       "      <td>0.580210</td>\n",
       "      <td>741.0</td>\n",
       "      <td>NaN</td>\n",
       "      <td>NaN</td>\n",
       "      <td>NaN</td>\n",
       "      <td>81.0</td>\n",
       "      <td>NaN</td>\n",
       "      <td>NaN</td>\n",
       "      <td>NaN</td>\n",
       "      <td>NaN</td>\n",
       "      <td>NaN</td>\n",
       "      <td>NaN</td>\n",
       "      <td>NaN</td>\n",
       "      <td>207.0</td>\n",
       "      <td>NaN</td>\n",
       "      <td>153.0</td>\n",
       "      <td>154.0</td>\n",
       "      <td>18.841219</td>\n",
       "      <td>89.063515</td>\n",
       "      <td>NaN</td>\n",
       "      <td>NaN</td>\n",
       "      <td>NaN</td>\n",
       "      <td>NaN</td>\n",
       "      <td>NaN</td>\n",
       "      <td>NaN</td>\n",
       "      <td>NaN</td>\n",
       "      <td>NaN</td>\n",
       "    </tr>\n",
       "    <tr>\n",
       "      <th>5</th>\n",
       "      <td>1576.0</td>\n",
       "      <td>1602.0</td>\n",
       "      <td>1.147867</td>\n",
       "      <td>0.765178</td>\n",
       "      <td>869.0</td>\n",
       "      <td>NaN</td>\n",
       "      <td>NaN</td>\n",
       "      <td>NaN</td>\n",
       "      <td>78.0</td>\n",
       "      <td>NaN</td>\n",
       "      <td>NaN</td>\n",
       "      <td>NaN</td>\n",
       "      <td>NaN</td>\n",
       "      <td>NaN</td>\n",
       "      <td>NaN</td>\n",
       "      <td>NaN</td>\n",
       "      <td>203.0</td>\n",
       "      <td>NaN</td>\n",
       "      <td>151.0</td>\n",
       "      <td>152.0</td>\n",
       "      <td>5.413692</td>\n",
       "      <td>89.238236</td>\n",
       "      <td>9.11456</td>\n",
       "      <td>NaN</td>\n",
       "      <td>NaN</td>\n",
       "      <td>NaN</td>\n",
       "      <td>NaN</td>\n",
       "      <td>NaN</td>\n",
       "      <td>NaN</td>\n",
       "      <td>NaN</td>\n",
       "    </tr>\n",
       "    <tr>\n",
       "      <th>...</th>\n",
       "      <td>...</td>\n",
       "      <td>...</td>\n",
       "      <td>...</td>\n",
       "      <td>...</td>\n",
       "      <td>...</td>\n",
       "      <td>...</td>\n",
       "      <td>...</td>\n",
       "      <td>...</td>\n",
       "      <td>...</td>\n",
       "      <td>...</td>\n",
       "      <td>...</td>\n",
       "      <td>...</td>\n",
       "      <td>...</td>\n",
       "      <td>...</td>\n",
       "      <td>...</td>\n",
       "      <td>...</td>\n",
       "      <td>...</td>\n",
       "      <td>...</td>\n",
       "      <td>...</td>\n",
       "      <td>...</td>\n",
       "      <td>...</td>\n",
       "      <td>...</td>\n",
       "      <td>...</td>\n",
       "      <td>...</td>\n",
       "      <td>...</td>\n",
       "      <td>...</td>\n",
       "      <td>...</td>\n",
       "      <td>...</td>\n",
       "      <td>...</td>\n",
       "      <td>...</td>\n",
       "    </tr>\n",
       "    <tr>\n",
       "      <th>2495</th>\n",
       "      <td>1570.0</td>\n",
       "      <td>1591.0</td>\n",
       "      <td>0.866068</td>\n",
       "      <td>0.639796</td>\n",
       "      <td>723.0</td>\n",
       "      <td>NaN</td>\n",
       "      <td>NaN</td>\n",
       "      <td>21.0</td>\n",
       "      <td>NaN</td>\n",
       "      <td>NaN</td>\n",
       "      <td>NaN</td>\n",
       "      <td>NaN</td>\n",
       "      <td>NaN</td>\n",
       "      <td>NaN</td>\n",
       "      <td>90.0</td>\n",
       "      <td>NaN</td>\n",
       "      <td>256.0</td>\n",
       "      <td>NaN</td>\n",
       "      <td>129.0</td>\n",
       "      <td>223.0</td>\n",
       "      <td>7.125735</td>\n",
       "      <td>89.150879</td>\n",
       "      <td>NaN</td>\n",
       "      <td>NaN</td>\n",
       "      <td>NaN</td>\n",
       "      <td>NaN</td>\n",
       "      <td>NaN</td>\n",
       "      <td>NaN</td>\n",
       "      <td>NaN</td>\n",
       "      <td>NaN</td>\n",
       "    </tr>\n",
       "    <tr>\n",
       "      <th>2496</th>\n",
       "      <td>1554.0</td>\n",
       "      <td>1591.0</td>\n",
       "      <td>0.774328</td>\n",
       "      <td>0.516853</td>\n",
       "      <td>940.0</td>\n",
       "      <td>NaN</td>\n",
       "      <td>NaN</td>\n",
       "      <td>NaN</td>\n",
       "      <td>63.0</td>\n",
       "      <td>NaN</td>\n",
       "      <td>NaN</td>\n",
       "      <td>NaN</td>\n",
       "      <td>NaN</td>\n",
       "      <td>NaN</td>\n",
       "      <td>122.0</td>\n",
       "      <td>NaN</td>\n",
       "      <td>256.0</td>\n",
       "      <td>NaN</td>\n",
       "      <td>129.0</td>\n",
       "      <td>226.0</td>\n",
       "      <td>9.412616</td>\n",
       "      <td>114.179527</td>\n",
       "      <td>NaN</td>\n",
       "      <td>NaN</td>\n",
       "      <td>NaN</td>\n",
       "      <td>NaN</td>\n",
       "      <td>NaN</td>\n",
       "      <td>NaN</td>\n",
       "      <td>NaN</td>\n",
       "      <td>NaN</td>\n",
       "    </tr>\n",
       "    <tr>\n",
       "      <th>2497</th>\n",
       "      <td>1571.0</td>\n",
       "      <td>1589.0</td>\n",
       "      <td>0.751381</td>\n",
       "      <td>0.627130</td>\n",
       "      <td>569.0</td>\n",
       "      <td>NaN</td>\n",
       "      <td>NaN</td>\n",
       "      <td>NaN</td>\n",
       "      <td>85.0</td>\n",
       "      <td>NaN</td>\n",
       "      <td>NaN</td>\n",
       "      <td>NaN</td>\n",
       "      <td>NaN</td>\n",
       "      <td>NaN</td>\n",
       "      <td>NaN</td>\n",
       "      <td>NaN</td>\n",
       "      <td>230.0</td>\n",
       "      <td>NaN</td>\n",
       "      <td>124.0</td>\n",
       "      <td>226.0</td>\n",
       "      <td>6.271699</td>\n",
       "      <td>94.086723</td>\n",
       "      <td>9.04800</td>\n",
       "      <td>NaN</td>\n",
       "      <td>NaN</td>\n",
       "      <td>NaN</td>\n",
       "      <td>NaN</td>\n",
       "      <td>NaN</td>\n",
       "      <td>NaN</td>\n",
       "      <td>NaN</td>\n",
       "    </tr>\n",
       "    <tr>\n",
       "      <th>2498</th>\n",
       "      <td>1591.0</td>\n",
       "      <td>1594.0</td>\n",
       "      <td>0.839905</td>\n",
       "      <td>0.585207</td>\n",
       "      <td>750.0</td>\n",
       "      <td>NaN</td>\n",
       "      <td>NaN</td>\n",
       "      <td>90.0</td>\n",
       "      <td>NaN</td>\n",
       "      <td>NaN</td>\n",
       "      <td>NaN</td>\n",
       "      <td>NaN</td>\n",
       "      <td>NaN</td>\n",
       "      <td>NaN</td>\n",
       "      <td>101.0</td>\n",
       "      <td>NaN</td>\n",
       "      <td>206.0</td>\n",
       "      <td>NaN</td>\n",
       "      <td>129.0</td>\n",
       "      <td>207.0</td>\n",
       "      <td>14.953657</td>\n",
       "      <td>118.110717</td>\n",
       "      <td>NaN</td>\n",
       "      <td>NaN</td>\n",
       "      <td>NaN</td>\n",
       "      <td>NaN</td>\n",
       "      <td>NaN</td>\n",
       "      <td>NaN</td>\n",
       "      <td>NaN</td>\n",
       "      <td>NaN</td>\n",
       "    </tr>\n",
       "    <tr>\n",
       "      <th>2499</th>\n",
       "      <td>1569.0</td>\n",
       "      <td>1603.0</td>\n",
       "      <td>1.217590</td>\n",
       "      <td>0.830250</td>\n",
       "      <td>883.0</td>\n",
       "      <td>NaN</td>\n",
       "      <td>NaN</td>\n",
       "      <td>47.0</td>\n",
       "      <td>NaN</td>\n",
       "      <td>NaN</td>\n",
       "      <td>NaN</td>\n",
       "      <td>NaN</td>\n",
       "      <td>NaN</td>\n",
       "      <td>NaN</td>\n",
       "      <td>NaN</td>\n",
       "      <td>NaN</td>\n",
       "      <td>233.0</td>\n",
       "      <td>NaN</td>\n",
       "      <td>126.0</td>\n",
       "      <td>227.0</td>\n",
       "      <td>11.336151</td>\n",
       "      <td>110.160958</td>\n",
       "      <td>50.00528</td>\n",
       "      <td>NaN</td>\n",
       "      <td>NaN</td>\n",
       "      <td>NaN</td>\n",
       "      <td>NaN</td>\n",
       "      <td>NaN</td>\n",
       "      <td>NaN</td>\n",
       "      <td>NaN</td>\n",
       "    </tr>\n",
       "  </tbody>\n",
       "</table>\n",
       "<p>2477 rows × 30 columns</p>\n",
       "</div>"
      ],
      "text/plain": [
       "      start_temperature  end_temperature  ...  Wire 8  Wire 9\n",
       "key                                       ...                \n",
       "1                1571.0           1613.0  ...     NaN     NaN\n",
       "2                1581.0           1602.0  ...     NaN     NaN\n",
       "3                1596.0           1599.0  ...     NaN     NaN\n",
       "4                1601.0           1625.0  ...     NaN     NaN\n",
       "5                1576.0           1602.0  ...     NaN     NaN\n",
       "...                 ...              ...  ...     ...     ...\n",
       "2495             1570.0           1591.0  ...     NaN     NaN\n",
       "2496             1554.0           1591.0  ...     NaN     NaN\n",
       "2497             1571.0           1589.0  ...     NaN     NaN\n",
       "2498             1591.0           1594.0  ...     NaN     NaN\n",
       "2499             1569.0           1603.0  ...     NaN     NaN\n",
       "\n",
       "[2477 rows x 30 columns]"
      ]
     },
     "execution_count": 15,
     "metadata": {
      "tags": []
     },
     "output_type": "execute_result"
    }
   ],
   "source": [
    "data_final = (data_temp_pivot.join(data_arc_pivot)\n",
    "                             .join(data_bulk)\n",
    "                             .join(data_gas)\n",
    "                             .join(data_wire))\n",
    "\n",
    "data_final"
   ]
  },
  {
   "cell_type": "markdown",
   "id": "tough-yeast",
   "metadata": {
    "id": "tough-yeast"
   },
   "source": [
    "Найдем у итогового датафрейма `data_final` те столбцы, которые содержат пропуски во всех строках. Удалим такие столбцы за ненадобностью."
   ]
  },
  {
   "cell_type": "code",
   "execution_count": 16,
   "id": "finnish-summary",
   "metadata": {
    "colab": {
     "base_uri": "https://localhost:8080/"
    },
    "executionInfo": {
     "elapsed": 67145,
     "status": "ok",
     "timestamp": 1617296315932,
     "user": {
      "displayName": "Артем Пушкарев",
      "photoUrl": "https://lh3.googleusercontent.com/-RL5lE4v0_44/AAAAAAAAAAI/AAAAAAAABbM/1xJdlJgu_mk/s64/photo.jpg",
      "userId": "11449239081604091500"
     },
     "user_tz": -180
    },
    "id": "finnish-summary",
    "outputId": "1638b88e-d536-42f7-d524-231597c7e120"
   },
   "outputs": [
    {
     "name": "stdout",
     "output_type": "stream",
     "text": [
      "Столбцы, в которых все значения \"NaN\": ['Wire 5']\n"
     ]
    }
   ],
   "source": [
    "nan_columns = data_final.columns[data_final.isna().all()].tolist()\n",
    "print('Столбцы, в которых все значения \"NaN\": {}'.format(nan_columns))\n",
    "\n",
    "data_final = data_final.drop(columns=nan_columns)"
   ]
  },
  {
   "cell_type": "markdown",
   "id": "freelance-amendment",
   "metadata": {
    "id": "freelance-amendment"
   },
   "source": [
    "### Проверка на наличие дублей"
   ]
  },
  {
   "cell_type": "markdown",
   "id": "national-explanation",
   "metadata": {
    "id": "national-explanation"
   },
   "source": [
    "Будем считать дубликатами те строки, у которых одинаковые значения `key`. Финальный датайфрейм не содержит дубли, т.к. столбец `key` является индексом датафрейма, а значит все его значения уникальны. "
   ]
  },
  {
   "cell_type": "markdown",
   "id": "continent-disposal",
   "metadata": {
    "id": "continent-disposal"
   },
   "source": [
    "### Предобработка пропущенных значений"
   ]
  },
  {
   "cell_type": "markdown",
   "id": "round-water",
   "metadata": {
    "id": "round-water"
   },
   "source": [
    "Проверим, какие столбцы содержат пропущенные значения."
   ]
  },
  {
   "cell_type": "code",
   "execution_count": 17,
   "id": "average-blend",
   "metadata": {
    "colab": {
     "base_uri": "https://localhost:8080/"
    },
    "executionInfo": {
     "elapsed": 67126,
     "status": "ok",
     "timestamp": 1617296315937,
     "user": {
      "displayName": "Артем Пушкарев",
      "photoUrl": "https://lh3.googleusercontent.com/-RL5lE4v0_44/AAAAAAAAAAI/AAAAAAAABbM/1xJdlJgu_mk/s64/photo.jpg",
      "userId": "11449239081604091500"
     },
     "user_tz": -180
    },
    "id": "average-blend",
    "outputId": "60c32ea0-34a2-4dad-f6d9-803983eade9b"
   },
   "outputs": [
    {
     "data": {
      "text/plain": [
       "['active_power_wavg',\n",
       " 'reactive_power_wavg',\n",
       " 'heating_duration',\n",
       " 'Bulk 1',\n",
       " 'Bulk 2',\n",
       " 'Bulk 3',\n",
       " 'Bulk 4',\n",
       " 'Bulk 5',\n",
       " 'Bulk 6',\n",
       " 'Bulk 7',\n",
       " 'Bulk 8',\n",
       " 'Bulk 9',\n",
       " 'Bulk 10',\n",
       " 'Bulk 11',\n",
       " 'Bulk 12',\n",
       " 'Bulk 13',\n",
       " 'Bulk 14',\n",
       " 'Bulk 15',\n",
       " 'gas',\n",
       " 'Wire 1',\n",
       " 'Wire 2',\n",
       " 'Wire 3',\n",
       " 'Wire 4',\n",
       " 'Wire 6',\n",
       " 'Wire 7',\n",
       " 'Wire 8',\n",
       " 'Wire 9']"
      ]
     },
     "execution_count": 17,
     "metadata": {
      "tags": []
     },
     "output_type": "execute_result"
    }
   ],
   "source": [
    "data_final.columns[data_final.isna().any()].tolist()"
   ]
  },
  {
   "cell_type": "markdown",
   "id": "manual-distributor",
   "metadata": {
    "id": "manual-distributor"
   },
   "source": [
    "Пропуски содержатся во всех столбцах, кроме столбцов `start_temperature` и `end_temperature`."
   ]
  },
  {
   "cell_type": "markdown",
   "id": "japanese-consideration",
   "metadata": {
    "id": "japanese-consideration"
   },
   "source": [
    "Найдем строки, у которых пропуски в столбцах `active_power_wavg` и `reactive_power_wavg`."
   ]
  },
  {
   "cell_type": "code",
   "execution_count": 18,
   "id": "hawaiian-twins",
   "metadata": {
    "colab": {
     "base_uri": "https://localhost:8080/",
     "height": 0
    },
    "executionInfo": {
     "elapsed": 67132,
     "status": "ok",
     "timestamp": 1617296315960,
     "user": {
      "displayName": "Артем Пушкарев",
      "photoUrl": "https://lh3.googleusercontent.com/-RL5lE4v0_44/AAAAAAAAAAI/AAAAAAAABbM/1xJdlJgu_mk/s64/photo.jpg",
      "userId": "11449239081604091500"
     },
     "user_tz": -180
    },
    "id": "hawaiian-twins",
    "outputId": "b34124c0-3317-40c5-99f8-0560a31c423d"
   },
   "outputs": [
    {
     "data": {
      "text/html": [
       "<div>\n",
       "<style scoped>\n",
       "    .dataframe tbody tr th:only-of-type {\n",
       "        vertical-align: middle;\n",
       "    }\n",
       "\n",
       "    .dataframe tbody tr th {\n",
       "        vertical-align: top;\n",
       "    }\n",
       "\n",
       "    .dataframe thead th {\n",
       "        text-align: right;\n",
       "    }\n",
       "</style>\n",
       "<table border=\"1\" class=\"dataframe\">\n",
       "  <thead>\n",
       "    <tr style=\"text-align: right;\">\n",
       "      <th></th>\n",
       "      <th>start_temperature</th>\n",
       "      <th>end_temperature</th>\n",
       "      <th>active_power_wavg</th>\n",
       "      <th>reactive_power_wavg</th>\n",
       "      <th>heating_duration</th>\n",
       "      <th>Bulk 1</th>\n",
       "      <th>Bulk 2</th>\n",
       "      <th>Bulk 3</th>\n",
       "      <th>Bulk 4</th>\n",
       "      <th>Bulk 5</th>\n",
       "      <th>Bulk 6</th>\n",
       "      <th>Bulk 7</th>\n",
       "      <th>Bulk 8</th>\n",
       "      <th>Bulk 9</th>\n",
       "      <th>Bulk 10</th>\n",
       "      <th>Bulk 11</th>\n",
       "      <th>Bulk 12</th>\n",
       "      <th>Bulk 13</th>\n",
       "      <th>Bulk 14</th>\n",
       "      <th>Bulk 15</th>\n",
       "      <th>gas</th>\n",
       "      <th>Wire 1</th>\n",
       "      <th>Wire 2</th>\n",
       "      <th>Wire 3</th>\n",
       "      <th>Wire 4</th>\n",
       "      <th>Wire 6</th>\n",
       "      <th>Wire 7</th>\n",
       "      <th>Wire 8</th>\n",
       "      <th>Wire 9</th>\n",
       "    </tr>\n",
       "    <tr>\n",
       "      <th>key</th>\n",
       "      <th></th>\n",
       "      <th></th>\n",
       "      <th></th>\n",
       "      <th></th>\n",
       "      <th></th>\n",
       "      <th></th>\n",
       "      <th></th>\n",
       "      <th></th>\n",
       "      <th></th>\n",
       "      <th></th>\n",
       "      <th></th>\n",
       "      <th></th>\n",
       "      <th></th>\n",
       "      <th></th>\n",
       "      <th></th>\n",
       "      <th></th>\n",
       "      <th></th>\n",
       "      <th></th>\n",
       "      <th></th>\n",
       "      <th></th>\n",
       "      <th></th>\n",
       "      <th></th>\n",
       "      <th></th>\n",
       "      <th></th>\n",
       "      <th></th>\n",
       "      <th></th>\n",
       "      <th></th>\n",
       "      <th></th>\n",
       "      <th></th>\n",
       "    </tr>\n",
       "  </thead>\n",
       "  <tbody>\n",
       "    <tr>\n",
       "      <th>195</th>\n",
       "      <td>1583.0</td>\n",
       "      <td>1583.0</td>\n",
       "      <td>NaN</td>\n",
       "      <td>NaN</td>\n",
       "      <td>NaN</td>\n",
       "      <td>NaN</td>\n",
       "      <td>NaN</td>\n",
       "      <td>NaN</td>\n",
       "      <td>NaN</td>\n",
       "      <td>NaN</td>\n",
       "      <td>NaN</td>\n",
       "      <td>NaN</td>\n",
       "      <td>NaN</td>\n",
       "      <td>NaN</td>\n",
       "      <td>NaN</td>\n",
       "      <td>NaN</td>\n",
       "      <td>NaN</td>\n",
       "      <td>NaN</td>\n",
       "      <td>NaN</td>\n",
       "      <td>NaN</td>\n",
       "      <td>0.374436</td>\n",
       "      <td>NaN</td>\n",
       "      <td>NaN</td>\n",
       "      <td>NaN</td>\n",
       "      <td>NaN</td>\n",
       "      <td>NaN</td>\n",
       "      <td>NaN</td>\n",
       "      <td>NaN</td>\n",
       "      <td>NaN</td>\n",
       "    </tr>\n",
       "    <tr>\n",
       "      <th>279</th>\n",
       "      <td>1603.0</td>\n",
       "      <td>1603.0</td>\n",
       "      <td>NaN</td>\n",
       "      <td>NaN</td>\n",
       "      <td>NaN</td>\n",
       "      <td>NaN</td>\n",
       "      <td>NaN</td>\n",
       "      <td>NaN</td>\n",
       "      <td>NaN</td>\n",
       "      <td>NaN</td>\n",
       "      <td>89.0</td>\n",
       "      <td>NaN</td>\n",
       "      <td>NaN</td>\n",
       "      <td>NaN</td>\n",
       "      <td>NaN</td>\n",
       "      <td>NaN</td>\n",
       "      <td>NaN</td>\n",
       "      <td>NaN</td>\n",
       "      <td>NaN</td>\n",
       "      <td>NaN</td>\n",
       "      <td>7.232359</td>\n",
       "      <td>99.066236</td>\n",
       "      <td>NaN</td>\n",
       "      <td>NaN</td>\n",
       "      <td>NaN</td>\n",
       "      <td>NaN</td>\n",
       "      <td>NaN</td>\n",
       "      <td>NaN</td>\n",
       "      <td>NaN</td>\n",
       "    </tr>\n",
       "  </tbody>\n",
       "</table>\n",
       "</div>"
      ],
      "text/plain": [
       "     start_temperature  end_temperature  ...  Wire 8  Wire 9\n",
       "key                                      ...                \n",
       "195             1583.0           1583.0  ...     NaN     NaN\n",
       "279             1603.0           1603.0  ...     NaN     NaN\n",
       "\n",
       "[2 rows x 29 columns]"
      ]
     },
     "execution_count": 18,
     "metadata": {
      "tags": []
     },
     "output_type": "execute_result"
    }
   ],
   "source": [
    "data_final[data_final['active_power_wavg'].isnull() | data_final['reactive_power_wavg'].isnull()]"
   ]
  },
  {
   "cell_type": "markdown",
   "id": "fossil-defeat",
   "metadata": {
    "id": "fossil-defeat"
   },
   "source": [
    "Удалим данные строки, т.к. у данных партий не было процесса нагрева."
   ]
  },
  {
   "cell_type": "code",
   "execution_count": 19,
   "id": "monetary-billion",
   "metadata": {
    "executionInfo": {
     "elapsed": 67129,
     "status": "ok",
     "timestamp": 1617296315962,
     "user": {
      "displayName": "Артем Пушкарев",
      "photoUrl": "https://lh3.googleusercontent.com/-RL5lE4v0_44/AAAAAAAAAAI/AAAAAAAABbM/1xJdlJgu_mk/s64/photo.jpg",
      "userId": "11449239081604091500"
     },
     "user_tz": -180
    },
    "id": "monetary-billion"
   },
   "outputs": [],
   "source": [
    "data_final.dropna(subset=['active_power_wavg', 'reactive_power_wavg'], how='any', inplace=True)"
   ]
  },
  {
   "cell_type": "markdown",
   "id": "hungry-marine",
   "metadata": {
    "id": "hungry-marine"
   },
   "source": [
    "Пропуски в остальных столбцах означают, что соответствующий материал (сыпучий или проволочный) не добавляли. Заполним пропуски в оставшихся столбцах нулями."
   ]
  },
  {
   "cell_type": "code",
   "execution_count": 20,
   "id": "geographic-collector",
   "metadata": {
    "executionInfo": {
     "elapsed": 67126,
     "status": "ok",
     "timestamp": 1617296315964,
     "user": {
      "displayName": "Артем Пушкарев",
      "photoUrl": "https://lh3.googleusercontent.com/-RL5lE4v0_44/AAAAAAAAAAI/AAAAAAAABbM/1xJdlJgu_mk/s64/photo.jpg",
      "userId": "11449239081604091500"
     },
     "user_tz": -180
    },
    "id": "geographic-collector"
   },
   "outputs": [],
   "source": [
    "data_final.fillna(value=0, inplace=True)"
   ]
  },
  {
   "cell_type": "markdown",
   "id": "enabling-nudist",
   "metadata": {
    "id": "enabling-nudist"
   },
   "source": [
    "### Вывод\n",
    "\n",
    "Была проведена предобработка данных:\n",
    "\n",
    "    1) Финальный датафрейм не содержит дубли;\n",
    "    2) Строки, содержащие пропуски в созданных столбцах \"active_power_wavg\" и \"reactive_power_wavg\", были удалены. Пропуски в остальных столбцах были заполнены значением 0;\n",
    "    3) Были удалены строки с аномальными значениями (\"reactive_power\"); \n",
    "    4) Созданы сводные таблицы \"data_arc_pivot\" и \"data_temp_pivot\" для последующего объединения с другими таблицами в финальный датафрейм."
   ]
  },
  {
   "cell_type": "markdown",
   "id": "approximate-imperial",
   "metadata": {
    "id": "approximate-imperial"
   },
   "source": [
    "## Исследовательский анализ данных"
   ]
  },
  {
   "cell_type": "markdown",
   "id": "representative-newspaper",
   "metadata": {
    "id": "representative-newspaper"
   },
   "source": [
    "### Распределение количественных признаков"
   ]
  },
  {
   "cell_type": "markdown",
   "id": "traditional-activation",
   "metadata": {
    "id": "traditional-activation"
   },
   "source": [
    "Все столбцы финального датафрейма являются количественными. Посмотрим на распределение всех столбцов датафрейма."
   ]
  },
  {
   "cell_type": "code",
   "execution_count": 21,
   "id": "weighted-murray",
   "metadata": {
    "colab": {
     "base_uri": "https://localhost:8080/",
     "height": 0
    },
    "executionInfo": {
     "elapsed": 73734,
     "status": "ok",
     "timestamp": 1617296322589,
     "user": {
      "displayName": "Артем Пушкарев",
      "photoUrl": "https://lh3.googleusercontent.com/-RL5lE4v0_44/AAAAAAAAAAI/AAAAAAAABbM/1xJdlJgu_mk/s64/photo.jpg",
      "userId": "11449239081604091500"
     },
     "user_tz": -180
    },
    "id": "weighted-murray",
    "outputId": "d50d23b0-e6d3-4a37-c30d-e8369e9fc690",
    "scrolled": false
   },
   "outputs": [
    {
     "data": {
      "image/png": "[encoded data removed]",
      "text/plain": [
       "<Figure size 1800x6480 with 29 Axes>"
      ]
     },
     "metadata": {
      "needs_background": "light",
      "tags": []
     },
     "output_type": "display_data"
    }
   ],
   "source": [
    "fig = plt.figure(figsize=(25, 90))\n",
    "\n",
    "cols = 3\n",
    "rows = math.ceil(len(data_final.columns) / cols) \n",
    "counter = 1\n",
    "for column in data_final.columns:\n",
    "    ax = plt.subplot(rows, cols, counter)\n",
    "    plt.xlabel('Значение признака', fontsize=15)\n",
    "    plt.ylabel('Кол-во, шт.', fontsize=13)\n",
    "    ax.set_title(column, fontsize=20)\n",
    "    data_final[column].hist(bins=30)\n",
    "    counter += 1\n",
    "plt.show();"
   ]
  },
  {
   "cell_type": "markdown",
   "id": "nominated-compression",
   "metadata": {
    "id": "nominated-compression"
   },
   "source": [
    "Графики всех столбцов имеют адекватные распределения, что означает, что данные не содержат аномалии."
   ]
  },
  {
   "cell_type": "markdown",
   "id": "1IEXSigx6Ovy",
   "metadata": {
    "id": "1IEXSigx6Ovy"
   },
   "source": [
    "### Исследование на наличие мультиколлинеарности"
   ]
  },
  {
   "cell_type": "markdown",
   "id": "58R1VeCc6Ovy",
   "metadata": {
    "id": "58R1VeCc6Ovy"
   },
   "source": [
    "Найдем такие пары признаков, у которых высокая взаимная корреляция (> 0.8)."
   ]
  },
  {
   "cell_type": "code",
   "execution_count": 22,
   "id": "PaKXCNOY6Ovz",
   "metadata": {
    "colab": {
     "base_uri": "https://localhost:8080/"
    },
    "executionInfo": {
     "elapsed": 73721,
     "status": "ok",
     "timestamp": 1617296322597,
     "user": {
      "displayName": "Артем Пушкарев",
      "photoUrl": "https://lh3.googleusercontent.com/-RL5lE4v0_44/AAAAAAAAAAI/AAAAAAAABbM/1xJdlJgu_mk/s64/photo.jpg",
      "userId": "11449239081604091500"
     },
     "user_tz": -180
    },
    "id": "PaKXCNOY6Ovz",
    "outputId": "e8ddbb2f-2765-47bd-fc17-fb946bf21d09"
   },
   "outputs": [
    {
     "data": {
      "text/plain": [
       "Wire 8               Bulk 9                 0.974976\n",
       "Bulk 9               Wire 8                 0.974976\n",
       "reactive_power_wavg  active_power_wavg      0.946311\n",
       "active_power_wavg    reactive_power_wavg    0.946311\n",
       "Wire 4               Bulk 7                 0.740254\n",
       "dtype: float64"
      ]
     },
     "execution_count": 22,
     "metadata": {
      "tags": []
     },
     "output_type": "execute_result"
    }
   ],
   "source": [
    "corr_matrix_abs = data_final.corr().abs()\n",
    "\n",
    "corr_cols = corr_matrix_abs.unstack()\n",
    "corr_cols_sort = corr_cols.where((corr_cols >= 0) & (corr_cols < 1)).sort_values(kind=\"quicksort\", ascending=False)\n",
    "\n",
    "corr_cols_sort.head()"
   ]
  },
  {
   "cell_type": "markdown",
   "id": "pSvBI4I16Ovz",
   "metadata": {
    "id": "pSvBI4I16Ovz"
   },
   "source": [
    "Высокую корреляцию имеют пары столбцов (`Wire 8`, `Bulk 9`) и (`active_power_awg` и `reactive_power_wavg`). Удалим из финального датафрейма столбцы `Wire 8` и `reactive_power_wavg`."
   ]
  },
  {
   "cell_type": "code",
   "execution_count": 23,
   "id": "Mdvhx2b26Ov0",
   "metadata": {
    "executionInfo": {
     "elapsed": 73720,
     "status": "ok",
     "timestamp": 1617296322601,
     "user": {
      "displayName": "Артем Пушкарев",
      "photoUrl": "https://lh3.googleusercontent.com/-RL5lE4v0_44/AAAAAAAAAAI/AAAAAAAABbM/1xJdlJgu_mk/s64/photo.jpg",
      "userId": "11449239081604091500"
     },
     "user_tz": -180
    },
    "id": "Mdvhx2b26Ov0"
   },
   "outputs": [],
   "source": [
    "data_final.drop(columns=['Wire 8', 'reactive_power_wavg'], inplace=True)"
   ]
  },
  {
   "cell_type": "markdown",
   "id": "warming-senior",
   "metadata": {
    "id": "warming-senior"
   },
   "source": [
    "### Вывод\n",
    "\n",
    "Было проведено исследование масштаба количественных данных, и принято решение о масштабировании количественных данных в следущем Шаге после разбиения датасетов на обучающую, тестовую и валидационную выборки.\n",
    "\n",
    "Было также проведено исследование на наличие мультиколлинеарности в финальном датасете, в результате которого были удалены столбцы `Wire 8` и `reactive_power_wavg` из-за их высокой коллинеарности с другими столбцами датасета."
   ]
  },
  {
   "cell_type": "markdown",
   "id": "permanent-alignment",
   "metadata": {
    "id": "permanent-alignment"
   },
   "source": [
    "## Обучение модели на предсказание признака `end_temperature`"
   ]
  },
  {
   "cell_type": "markdown",
   "id": "stainless-tennessee",
   "metadata": {
    "id": "stainless-tennessee"
   },
   "source": [
    "Создадим переменные `features` (признаки) и `target` (целевой признак `end_temperature`) из датафрейма `data_final`."
   ]
  },
  {
   "cell_type": "code",
   "execution_count": 24,
   "id": "directed-terminal",
   "metadata": {
    "executionInfo": {
     "elapsed": 73717,
     "status": "ok",
     "timestamp": 1617296322603,
     "user": {
      "displayName": "Артем Пушкарев",
      "photoUrl": "https://lh3.googleusercontent.com/-RL5lE4v0_44/AAAAAAAAAAI/AAAAAAAABbM/1xJdlJgu_mk/s64/photo.jpg",
      "userId": "11449239081604091500"
     },
     "user_tz": -180
    },
    "id": "directed-terminal"
   },
   "outputs": [],
   "source": [
    "target = data_final['end_temperature']\n",
    "features = data_final.drop('end_temperature', axis=1)"
   ]
  },
  {
   "cell_type": "markdown",
   "id": "alpine-august",
   "metadata": {
    "id": "alpine-august"
   },
   "source": [
    "Разделим датафрейм `data_final` на обучающую и тестовую выборки, и проверим доли выборок."
   ]
  },
  {
   "cell_type": "code",
   "execution_count": 25,
   "id": "golden-youth",
   "metadata": {
    "colab": {
     "base_uri": "https://localhost:8080/"
    },
    "executionInfo": {
     "elapsed": 73679,
     "status": "ok",
     "timestamp": 1617296322606,
     "user": {
      "displayName": "Артем Пушкарев",
      "photoUrl": "https://lh3.googleusercontent.com/-RL5lE4v0_44/AAAAAAAAAAI/AAAAAAAABbM/1xJdlJgu_mk/s64/photo.jpg",
      "userId": "11449239081604091500"
     },
     "user_tz": -180
    },
    "id": "golden-youth",
    "outputId": "3696a1a9-0c2e-482c-90a4-362b6f852d6a"
   },
   "outputs": [
    {
     "name": "stdout",
     "output_type": "stream",
     "text": [
      "Доля обучающей выборки \"data\": 80%\n",
      "Доля тестовой выборки \"data\": 20%\n"
     ]
    }
   ],
   "source": [
    "features_train, features_test, target_train, target_test = train_test_split(\n",
    "    features, target, test_size=0.2, random_state=12345)\n",
    "\n",
    "train_size = len(target_train) / len(target)\n",
    "test_size = len(target_test) / len(target)\n",
    "\n",
    "\n",
    "print('Доля обучающей выборки \"data\": {:.0%}'.format(train_size))\n",
    "print('Доля тестовой выборки \"data\": {:.0%}'.format(test_size))"
   ]
  },
  {
   "cell_type": "markdown",
   "id": "dense-harbor",
   "metadata": {
    "id": "dense-harbor"
   },
   "source": [
    "### Модель решающего дерева (`DecisionTreeRegressor`) "
   ]
  },
  {
   "cell_type": "markdown",
   "id": "velvet-hotel",
   "metadata": {
    "id": "velvet-hotel"
   },
   "source": [
    "В качестве алгоритма предсказания целевого признака выберем модель решающего дерева (`DecisionTreeRegressor`). Для начала необходимо произвести стандартизацию данных. Реализуем это с помощью контейнера `Pipeline()`, в котором последовательно стандартизируются данные, а затем предсказывается целевой признак на обработанных данных.\n",
    "\n",
    "Создадим функцию, которая будет проделывать описанные выше шаги. Кросс-валидация будет заложена в `GridSearch` с помощью параметра `cv=4` внутри функции. В дальнейшем это облегчит обучение других моделей."
   ]
  },
  {
   "cell_type": "code",
   "execution_count": 26,
   "id": "minimal-coach",
   "metadata": {
    "executionInfo": {
     "elapsed": 73678,
     "status": "ok",
     "timestamp": 1617296322609,
     "user": {
      "displayName": "Артем Пушкарев",
      "photoUrl": "https://lh3.googleusercontent.com/-RL5lE4v0_44/AAAAAAAAAAI/AAAAAAAABbM/1xJdlJgu_mk/s64/photo.jpg",
      "userId": "11449239081604091500"
     },
     "user_tz": -180
    },
    "id": "minimal-coach"
   },
   "outputs": [],
   "source": [
    "def tuned_model_regression(model, parameters, name_of_regressor):\n",
    "    #Создадим экземпляры класса стандартизатора и классификатора\n",
    "    scaler = StandardScaler()\n",
    "    \n",
    "    #Далее создаём массив последовательности «шагов» конвейера\n",
    "    steps = [('normalizer', scaler), (name_of_regressor, model)]\n",
    "    pipe = Pipeline(steps)\n",
    "\n",
    "    mae_scorer = make_scorer(mean_absolute_error, greater_is_better=False)\n",
    "\n",
    "    #Укажем внутри `GridSearch` параметр кросс-валидации `cv` \n",
    "    grid_search = GridSearchCV(estimator=pipe, param_grid=parameters, scoring=mae_scorer, cv=4)\n",
    "    return grid_search"
   ]
  },
  {
   "cell_type": "markdown",
   "id": "asian-principal",
   "metadata": {
    "id": "asian-principal"
   },
   "source": [
    "Проверим качество обученной модели на тестовой выборке."
   ]
  },
  {
   "cell_type": "code",
   "execution_count": 27,
   "id": "certified-deployment",
   "metadata": {
    "colab": {
     "base_uri": "https://localhost:8080/"
    },
    "executionInfo": {
     "elapsed": 92490,
     "status": "ok",
     "timestamp": 1617296341436,
     "user": {
      "displayName": "Артем Пушкарев",
      "photoUrl": "https://lh3.googleusercontent.com/-RL5lE4v0_44/AAAAAAAAAAI/AAAAAAAABbM/1xJdlJgu_mk/s64/photo.jpg",
      "userId": "11449239081604091500"
     },
     "user_tz": -180
    },
    "id": "certified-deployment",
    "outputId": "4ac32b42-27e3-450b-b374-fede5cac1533"
   },
   "outputs": [
    {
     "name": "stdout",
     "output_type": "stream",
     "text": [
      "Значение метрики MAE для модели решающего дерева: 7.59\n",
      "CPU times: user 18.8 s, sys: 23.7 ms, total: 18.8 s\n",
      "Wall time: 18.7 s\n"
     ]
    }
   ],
   "source": [
    "%%time\n",
    "\n",
    "model_decision_tree = tuned_model_regression(\n",
    "    model=DecisionTreeRegressor(random_state=12345),\n",
    "    parameters={'decision_tree__max_depth': np.arange(1, 51),\n",
    "               'decision_tree__min_samples_leaf': [1, 5, 10, 20, 50, 100]},\n",
    "    name_of_regressor='decision_tree')\n",
    "\n",
    "model_decision_tree.fit(features_train, target_train)\n",
    "predictions_decision_tree = model_decision_tree.predict(features_test)\n",
    "\n",
    "MAE_tree = mean_absolute_error(target_test, predictions_decision_tree)\n",
    "print('Значение метрики MAE для модели решающего дерева: {:.2f}'.format(MAE_tree))"
   ]
  },
  {
   "cell_type": "markdown",
   "id": "FZ7-v9Gq6Ov3",
   "metadata": {
    "id": "FZ7-v9Gq6Ov3"
   },
   "source": [
    "Построим график рейтинга факторов по силе влияния на целевой признак."
   ]
  },
  {
   "cell_type": "code",
   "execution_count": 28,
   "id": "EgZJSAZr6Ov4",
   "metadata": {
    "colab": {
     "base_uri": "https://localhost:8080/",
     "height": 642
    },
    "executionInfo": {
     "elapsed": 92472,
     "status": "ok",
     "timestamp": 1617296341442,
     "user": {
      "displayName": "Артем Пушкарев",
      "photoUrl": "https://lh3.googleusercontent.com/-RL5lE4v0_44/AAAAAAAAAAI/AAAAAAAABbM/1xJdlJgu_mk/s64/photo.jpg",
      "userId": "11449239081604091500"
     },
     "user_tz": -180
    },
    "id": "EgZJSAZr6Ov4",
    "outputId": "cdfb3eb5-c927-4446-b3fe-e6f3ed13379b"
   },
   "outputs": [
    {
     "data": {
      "image/png": "[encoded data removed]",
      "text/plain": [
       "<Figure size 1440x720 with 1 Axes>"
      ]
     },
     "metadata": {
      "needs_background": "light",
      "tags": []
     },
     "output_type": "display_data"
    }
   ],
   "source": [
    "plt.title('Рейтинг факторов по силе влияния на целевой признак', fontsize=25)\n",
    "(pd.Series(model_decision_tree.best_estimator_[1].feature_importances_, index=features_train.columns)\n",
    "   .nlargest(15)\n",
    "   .plot(kind='barh', figsize=(20, 10), fontsize=12))\n",
    "\n",
    "plt.xlabel('Признаки', fontsize=18)\n",
    "plt.ylabel('Важность признака', fontsize=18);"
   ]
  },
  {
   "cell_type": "markdown",
   "id": "RiIMjM6Z6Ov4",
   "metadata": {
    "id": "RiIMjM6Z6Ov4"
   },
   "source": [
    "Заметим, что наиболее важными признаками для предсказания конечной температры являются (по убыванию): `Wire 1`, `start_temperature`, `heating_duration`, `active_power_wavg`, `Bulk 6` и `Bulk 15`. Поэтой причине обновим обучающую и тестовую выборки, удалив маловажные столбцы (все, кроме `Wire 1`, `start_temperature`, `heating_duration`, `active_power_wavg`, `Bulk 6`, `Bulk 15`)."
   ]
  },
  {
   "cell_type": "code",
   "execution_count": 29,
   "id": "Gb8W_cVc6Ov5",
   "metadata": {
    "executionInfo": {
     "elapsed": 92464,
     "status": "ok",
     "timestamp": 1617296341443,
     "user": {
      "displayName": "Артем Пушкарев",
      "photoUrl": "https://lh3.googleusercontent.com/-RL5lE4v0_44/AAAAAAAAAAI/AAAAAAAABbM/1xJdlJgu_mk/s64/photo.jpg",
      "userId": "11449239081604091500"
     },
     "user_tz": -180
    },
    "id": "Gb8W_cVc6Ov5"
   },
   "outputs": [],
   "source": [
    "for df in [features_train, features_test]:\n",
    "    df.drop(df.columns.difference(['Wire 1',\n",
    "                                   'start_temperature',\n",
    "                                   'heating_duration',\n",
    "                                   'active_power_wavg',\n",
    "                                   'Bulk 6',\n",
    "                                   'Bulk 15']), axis=1, inplace=True)"
   ]
  },
  {
   "cell_type": "markdown",
   "id": "H5Nxx9HP6Ov5",
   "metadata": {
    "id": "H5Nxx9HP6Ov5"
   },
   "source": [
    "Обучим заново модель решающего дерева и посмотрим на результат."
   ]
  },
  {
   "cell_type": "code",
   "execution_count": 30,
   "id": "DHJcY1oj6Ov5",
   "metadata": {
    "colab": {
     "base_uri": "https://localhost:8080/"
    },
    "executionInfo": {
     "elapsed": 104495,
     "status": "ok",
     "timestamp": 1617296353492,
     "user": {
      "displayName": "Артем Пушкарев",
      "photoUrl": "https://lh3.googleusercontent.com/-RL5lE4v0_44/AAAAAAAAAAI/AAAAAAAABbM/1xJdlJgu_mk/s64/photo.jpg",
      "userId": "11449239081604091500"
     },
     "user_tz": -180
    },
    "id": "DHJcY1oj6Ov5",
    "outputId": "365932c6-86e0-400c-942e-a4488f85cd57"
   },
   "outputs": [
    {
     "name": "stdout",
     "output_type": "stream",
     "text": [
      "Значение метрики MAE для модели решающего дерева: 7.37\n",
      "CPU times: user 11.6 s, sys: 6.1 ms, total: 11.6 s\n",
      "Wall time: 11.5 s\n"
     ]
    }
   ],
   "source": [
    "%%time\n",
    "\n",
    "model_decision_tree = tuned_model_regression(\n",
    "    model=DecisionTreeRegressor(random_state=12345),\n",
    "    parameters={'decision_tree__max_depth': np.arange(1, 51),\n",
    "               'decision_tree__min_samples_leaf': [1, 5, 10, 20, 50, 100]},\n",
    "    name_of_regressor='decision_tree')\n",
    "\n",
    "model_decision_tree.fit(features_train, target_train)\n",
    "predictions_decision_tree = model_decision_tree.predict(features_test)\n",
    "\n",
    "MAE_tree = mean_absolute_error(target_test, predictions_decision_tree)\n",
    "print('Значение метрики MAE для модели решающего дерева: {:.2f}'.format(MAE_tree))"
   ]
  },
  {
   "cell_type": "markdown",
   "id": "earned-growing",
   "metadata": {
    "id": "earned-growing"
   },
   "source": [
    "### Модель случайного леса (`RandomForestRegressor`) "
   ]
  },
  {
   "cell_type": "markdown",
   "id": "appropriate-functionality",
   "metadata": {
    "id": "appropriate-functionality"
   },
   "source": [
    "Обучим модель с помощью случайного леса (`RandomForestRegressor`). Аналогично предыдущему пункту сначала произведем стандартизацию данных, а затем обучим модель с помощью функции `tuned_model_regression()`."
   ]
  },
  {
   "cell_type": "code",
   "execution_count": 31,
   "id": "institutional-aspect",
   "metadata": {
    "colab": {
     "base_uri": "https://localhost:8080/"
    },
    "executionInfo": {
     "elapsed": 2485933,
     "status": "ok",
     "timestamp": 1617298734947,
     "user": {
      "displayName": "Артем Пушкарев",
      "photoUrl": "https://lh3.googleusercontent.com/-RL5lE4v0_44/AAAAAAAAAAI/AAAAAAAABbM/1xJdlJgu_mk/s64/photo.jpg",
      "userId": "11449239081604091500"
     },
     "user_tz": -180
    },
    "id": "institutional-aspect",
    "outputId": "7116cd11-1dc0-455f-f92a-871f1ab912f9"
   },
   "outputs": [
    {
     "name": "stdout",
     "output_type": "stream",
     "text": [
      "Значение метрики MAE для модели случайного леса: 6.61\n",
      "CPU times: user 39min 42s, sys: 9.38 s, total: 39min 51s\n",
      "Wall time: 39min 42s\n"
     ]
    }
   ],
   "source": [
    "%%time\n",
    "\n",
    "model_random_forest = tuned_model_regression(\n",
    "    model=RandomForestRegressor(random_state=12345),\n",
    "    parameters={'random_forest__max_depth': np.arange(1, 51),\n",
    "               'random_forest__n_estimators': [100, 200, 500, 1200]},\n",
    "    name_of_regressor='random_forest')\n",
    "\n",
    "model_random_forest.fit(features_train, target_train)\n",
    "predictions_random_forest = model_random_forest.predict(features_test)\n",
    "\n",
    "MAE_random_forest = mean_absolute_error(target_test, predictions_random_forest)\n",
    "print('Значение метрики MAE для модели случайного леса: {:.2f}'.format(MAE_random_forest))"
   ]
  },
  {
   "cell_type": "markdown",
   "id": "qZZGTkgC6Ov7",
   "metadata": {
    "id": "qZZGTkgC6Ov7"
   },
   "source": [
    "Построим график рейтинга факторов по силе влияния на целевой признак."
   ]
  },
  {
   "cell_type": "code",
   "execution_count": 32,
   "id": "tukWciKE6Ov7",
   "metadata": {
    "colab": {
     "base_uri": "https://localhost:8080/",
     "height": 642
    },
    "executionInfo": {
     "elapsed": 2487068,
     "status": "ok",
     "timestamp": 1617298736104,
     "user": {
      "displayName": "Артем Пушкарев",
      "photoUrl": "https://lh3.googleusercontent.com/-RL5lE4v0_44/AAAAAAAAAAI/AAAAAAAABbM/1xJdlJgu_mk/s64/photo.jpg",
      "userId": "11449239081604091500"
     },
     "user_tz": -180
    },
    "id": "tukWciKE6Ov7",
    "outputId": "ad7d0ac4-5df4-40aa-811f-d56a4487058c"
   },
   "outputs": [
    {
     "data": {
      "image/png": "[encoded data removed]",
      "text/plain": [
       "<Figure size 1440x720 with 1 Axes>"
      ]
     },
     "metadata": {
      "needs_background": "light",
      "tags": []
     },
     "output_type": "display_data"
    }
   ],
   "source": [
    "plt.title('Рейтинг факторов по силе влияния на целевой признак', fontsize=25)\n",
    "(pd.Series(model_random_forest.best_estimator_[1].feature_importances_, index=features_train.columns)\n",
    "   .nlargest(15)\n",
    "   .plot(kind='barh', figsize=(20, 10), fontsize=12))\n",
    "\n",
    "plt.xlabel('Признаки', fontsize=18)\n",
    "plt.ylabel('Важность признака', fontsize=18);"
   ]
  },
  {
   "cell_type": "markdown",
   "id": "olSb1uOgQaZm",
   "metadata": {
    "id": "olSb1uOgQaZm"
   },
   "source": [
    "### Модель градиентого бустинга (`LGBMRegressor`)"
   ]
  },
  {
   "cell_type": "markdown",
   "id": "1lWkpvUUQqvG",
   "metadata": {
    "id": "1lWkpvUUQqvG"
   },
   "source": [
    "Обучим модель с помощью градиентного бустинга на обучающей выборке датафрейма `data_final`."
   ]
  },
  {
   "cell_type": "code",
   "execution_count": 48,
   "id": "4nnydxQcQfSu",
   "metadata": {
    "colab": {
     "base_uri": "https://localhost:8080/"
    },
    "executionInfo": {
     "elapsed": 940324,
     "status": "ok",
     "timestamp": 1617302270390,
     "user": {
      "displayName": "Артем Пушкарев",
      "photoUrl": "https://lh3.googleusercontent.com/-RL5lE4v0_44/AAAAAAAAAAI/AAAAAAAABbM/1xJdlJgu_mk/s64/photo.jpg",
      "userId": "11449239081604091500"
     },
     "user_tz": -180
    },
    "id": "4nnydxQcQfSu",
    "outputId": "f915afab-85c7-43eb-b5f4-9305cc2953a0"
   },
   "outputs": [
    {
     "name": "stdout",
     "output_type": "stream",
     "text": [
      "Значение метрики MAE для модели градиентного бустинга: 7.33\n",
      "CPU times: user 10h 23min 50s, sys: 1min 35s, total: 10h 25min 25s\n",
      "Wall time: 15min 39s\n"
     ]
    }
   ],
   "source": [
    "%%time\n",
    "\n",
    "parameters={'max_depth': np.arange(1, 51),\n",
    "            'n_estimators': [100, 200, 500, 1200],\n",
    "            'boosting_type': ['rf'],\n",
    "            'bagging_freq': [1],\n",
    "            'bagging_fraction': [0.6],\n",
    "            'metric': ['rmse'],\n",
    "            'learning_rate': [0.001]}\n",
    "\n",
    "mae_scorer = make_scorer(mean_absolute_error, greater_is_better=False)\n",
    "\n",
    "model_lgbm = GridSearchCV(estimator=LGBMRegressor(random_state=12345), param_grid=parameters, scoring=mae_scorer, cv=4)\n",
    "model_lgbm.fit(features_train, target_train)\n",
    "predictions_lgbm = model_lgbm.predict(features_test)\n",
    "\n",
    "MAE_lgbm = mean_absolute_error(target_test, predictions_lgbm)\n",
    "print('Значение метрики MAE для модели градиентного бустинга: {:.2f}'.format(MAE_lgbm))"
   ]
  },
  {
   "cell_type": "markdown",
   "id": "yDV-JwXN6Ov9",
   "metadata": {
    "id": "yDV-JwXN6Ov9"
   },
   "source": [
    "Построим график рейтинга факторов по силе влияния на целевой признак."
   ]
  },
  {
   "cell_type": "code",
   "execution_count": 49,
   "id": "abu0BeOx6Ov9",
   "metadata": {
    "colab": {
     "base_uri": "https://localhost:8080/",
     "height": 642
    },
    "executionInfo": {
     "elapsed": 1116,
     "status": "ok",
     "timestamp": 1617302271526,
     "user": {
      "displayName": "Артем Пушкарев",
      "photoUrl": "https://lh3.googleusercontent.com/-RL5lE4v0_44/AAAAAAAAAAI/AAAAAAAABbM/1xJdlJgu_mk/s64/photo.jpg",
      "userId": "11449239081604091500"
     },
     "user_tz": -180
    },
    "id": "abu0BeOx6Ov9",
    "outputId": "7a3a3192-890c-4566-cac1-0cae9a4c1954"
   },
   "outputs": [
    {
     "data": {
      "image/png": "[encoded data removed]",
      "text/plain": [
       "<Figure size 1440x720 with 1 Axes>"
      ]
     },
     "metadata": {
      "needs_background": "light",
      "tags": []
     },
     "output_type": "display_data"
    }
   ],
   "source": [
    "plt.title('Рейтинг факторов по силе влияния на целевой признак', fontsize=25)\n",
    "(pd.Series(model_lgbm.best_estimator_.feature_importances_, index=features_train.columns)\n",
    "   .nlargest(15)\n",
    "   .plot(kind='barh', figsize=(20, 10), fontsize=12))\n",
    "\n",
    "plt.xlabel('Признаки', fontsize=18)\n",
    "plt.ylabel('Важность признака', fontsize=18);"
   ]
  },
  {
   "cell_type": "markdown",
   "id": "QawRGhtsSMmw",
   "metadata": {
    "id": "QawRGhtsSMmw"
   },
   "source": [
    "## Аналитический отчет"
   ]
  },
  {
   "cell_type": "markdown",
   "id": "zCu7zSZCST7P",
   "metadata": {
    "id": "zCu7zSZCST7P"
   },
   "source": [
    "В ходе проделанной работы были выполнены все этапы плана: предобработка данных, исследовательский анализ данных и обучение и выбор моделей.\n",
    "\n",
    "Для обучения модели необходимо было объединить имеющиеся таблицы в одну финальную. Для объединения таблиц использовался метод `.join`, однако не все таблицы были включены в финальную: не были включены `data_bulk_time` и `data_wire_time`- данные таблицы содержали информацию о времени добавления того или иного сыпучего материала или проволочного материала, соответственно. Эти данные не понадобились, т.к. для построения модели учитывалось не время добавления легирующих материалов, а их общее количество, информация о котором содержалась в таблицах `data_bulk` и `data_wire`.\n",
    "\n",
    "Информация о времени начала и конца нагрева сплава, а также активная и реактивная мощности содержалась в таблице `data_arc`. Было принято решение создать сводную таблицу `data_arc_pivot`, которая отражает средневзешенные значения активной и реактивной мощностей для каждой партии, где весами являются продолжительность нагрева. Это позволило включить информацию о мощности нагрева, а также продолжительности в финальную таблицу `data_final`.\n",
    "\n",
    "Также в ходе подготовки данных обнаружилась следующая проблема - в таблице `data_temp` содержалось несколько значений температур для каждой партии. Целью данного проекта являлось предсказание последнего значения температуры. Поэтому было создана сводная таблица `data_temp_pivot`, которая содержала информацию о начальном и конечном значениях температуры для каждой партии сплава (`start_temperature` и `end_temperature`).\n",
    "\n",
    "В финальный датафрейм `data_final` была включена информация из следующих таблиц: `data_arc_pivot`, `data_bulk`, `data_wire`, `data_gas` и `data_temp_pivot`. После объединения таблиц, была проведена предобработка данных: удаление дублей, предобработка пропущенных значений в столбцах, исследование на адекватность распределений количественных признаков и удаление аномальных значений. Также был проведено исследование на наличие мультиколлинеарности в данных финального датафрейма, в ходе которого выяснилось, что столбцы `Wire 8` и `reactive_power_wavg` сильно коррелировали с другими признаками, поэтому было принято решение удалить данные признаки. После проделанных этапов, описанных выше, данные были очищены и готовы для построения модели предсказания конечной температуры сплава `end_temperature`. Для этого были выбраны три алгоритма обучения: решающее дерево, случайный лес и градиентный бустинг. \n",
    "\n",
    "Наилучшее качество метрики демонстрирует модель случайного леса (МАЕ = 6,61), но в то же время данная модель дольше всего обучается (~40 мин.).\n",
    "\n",
    "На втором месте по качеству и скорости обучения - модель, обученная с помощью градиентного бустинга (МАЕ = 7,33; 16 мин.)\n",
    "\n",
    "В то время, как алгоритм решающего дерева уступает в качестве (МАЕ = 7,37), он значительно быстрее, чем модели градиентного бустинга и случайного леса (~12 сек.).\n",
    "\n",
    "Было принято решение выбрать в качестве итоговой модель, обученную алгоритмом случайного леса. Значение итоговой метрики МАЕ - 6,61 (градуса). Поставленная задача выполнена."
   ]
  }
 ],
 "metadata": {
  "accelerator": "TPU",
  "colab": {
   "collapsed_sections": [
    "freelance-amendment",
    "continent-disposal",
    "enabling-nudist",
    "representative-newspaper",
    "warming-senior"
   ],
   "machine_shape": "hm",
   "name": "Total_project.ipynb",
   "provenance": []
  },
  "kernelspec": {
   "display_name": "Python 3",
   "language": "python",
   "name": "python3"
  },
  "language_info": {
   "codemirror_mode": {
    "name": "ipython",
    "version": 3
   },
   "file_extension": ".py",
   "mimetype": "text/x-python",
   "name": "python",
   "nbconvert_exporter": "python",
   "pygments_lexer": "ipython3",
   "version": "3.8.8"
  },
  "toc": {
   "base_numbering": 1,
   "nav_menu": {},
   "number_sections": true,
   "sideBar": true,
   "skip_h1_title": true,
   "title_cell": "Table of Contents",
   "title_sidebar": "Contents",
   "toc_cell": false,
   "toc_position": {},
   "toc_section_display": true,
   "toc_window_display": false
  }
 },
 "nbformat": 4,
 "nbformat_minor": 5
}
